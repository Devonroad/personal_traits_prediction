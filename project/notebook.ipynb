{
 "cells": [
  {
   "cell_type": "markdown",
   "id": "4df4ed08-4d19-48cb-9247-76c5ce410e99",
   "metadata": {},
   "source": [
    "# Import libraries"
   ]
  },
  {
   "cell_type": "code",
   "execution_count": 78,
   "id": "1808e219-8c88-4fb3-abc9-6077c95e43fd",
   "metadata": {},
   "outputs": [],
   "source": [
    "import pandas as pd\n",
    "import numpy as np\n",
    "import matplotlib.pyplot as plt\n",
    "import seaborn as sns\n",
    "\n",
    "from sklearn.metrics import mutual_info_score, classification_report, accuracy_score, roc_auc_score\n",
    "from sklearn.model_selection import train_test_split, KFold, GridSearchCV\n",
    "#from sklearn.feature_extraction import DictVectorizer\n",
    "from sklearn.preprocessing import LabelEncoder, StandardScaler, OneHotEncoder\n",
    "from sklearn.pipeline import Pipeline\n",
    "from sklearn.compose import ColumnTransformer\n",
    "from sklearn.linear_model import LogisticRegression\n",
    "from sklearn.tree import DecisionTreeClassifier, plot_tree, export_text\n",
    "\n",
    "from tqdm.auto import tqdm"
   ]
  },
  {
   "cell_type": "markdown",
   "id": "3b232dfb-bf47-4c4f-b0f8-ead0aa812d37",
   "metadata": {},
   "source": [
    "# Part 1: Data understanding and processing (EDA)"
   ]
  },
  {
   "cell_type": "markdown",
   "id": "c61bcb6c-ff4e-4fda-827c-7f00d7e5221d",
   "metadata": {},
   "source": [
    "## 1.1 Get to know the data"
   ]
  },
  {
   "cell_type": "code",
   "execution_count": 3,
   "id": "07542444-04e6-4e3a-ac73-79ed853b2527",
   "metadata": {},
   "outputs": [
    {
     "name": "stdout",
     "output_type": "stream",
     "text": [
      "<class 'pandas.core.frame.DataFrame'>\n",
      "RangeIndex: 128061 entries, 0 to 128060\n",
      "Data columns (total 9 columns):\n",
      " #   Column              Non-Null Count   Dtype  \n",
      "---  ------              --------------   -----  \n",
      " 0   Age                 128061 non-null  float64\n",
      " 1   Gender              128061 non-null  object \n",
      " 2   Education           128061 non-null  int64  \n",
      " 3   Introversion Score  128061 non-null  float64\n",
      " 4   Sensing Score       128061 non-null  float64\n",
      " 5   Thinking Score      128061 non-null  float64\n",
      " 6   Judging Score       128061 non-null  float64\n",
      " 7   Interest            128061 non-null  object \n",
      " 8   Personality         128061 non-null  object \n",
      "dtypes: float64(5), int64(1), object(3)\n",
      "memory usage: 8.8+ MB\n"
     ]
    },
    {
     "data": {
      "text/plain": [
       "(None, (128061, 9))"
      ]
     },
     "execution_count": 3,
     "metadata": {},
     "output_type": "execute_result"
    }
   ],
   "source": [
    "path = './data.csv'\n",
    "df = pd.read_csv(path)\n",
    "df.info(), df.shape"
   ]
  },
  {
   "cell_type": "code",
   "execution_count": 4,
   "id": "b4f9c739-69a3-4555-8432-25114a1d9384",
   "metadata": {},
   "outputs": [
    {
     "data": {
      "text/html": [
       "<div>\n",
       "<style scoped>\n",
       "    .dataframe tbody tr th:only-of-type {\n",
       "        vertical-align: middle;\n",
       "    }\n",
       "\n",
       "    .dataframe tbody tr th {\n",
       "        vertical-align: top;\n",
       "    }\n",
       "\n",
       "    .dataframe thead th {\n",
       "        text-align: right;\n",
       "    }\n",
       "</style>\n",
       "<table border=\"1\" class=\"dataframe\">\n",
       "  <thead>\n",
       "    <tr style=\"text-align: right;\">\n",
       "      <th></th>\n",
       "      <th>Age</th>\n",
       "      <th>Gender</th>\n",
       "      <th>Education</th>\n",
       "      <th>Introversion Score</th>\n",
       "      <th>Sensing Score</th>\n",
       "      <th>Thinking Score</th>\n",
       "      <th>Judging Score</th>\n",
       "      <th>Interest</th>\n",
       "      <th>Personality</th>\n",
       "    </tr>\n",
       "  </thead>\n",
       "  <tbody>\n",
       "    <tr>\n",
       "      <th>0</th>\n",
       "      <td>19.0</td>\n",
       "      <td>Male</td>\n",
       "      <td>0</td>\n",
       "      <td>9.47080</td>\n",
       "      <td>7.141434</td>\n",
       "      <td>6.03696</td>\n",
       "      <td>4.360278</td>\n",
       "      <td>Unknown</td>\n",
       "      <td>ENFP</td>\n",
       "    </tr>\n",
       "    <tr>\n",
       "      <th>1</th>\n",
       "      <td>27.0</td>\n",
       "      <td>Female</td>\n",
       "      <td>0</td>\n",
       "      <td>5.85392</td>\n",
       "      <td>6.160195</td>\n",
       "      <td>0.80552</td>\n",
       "      <td>4.221421</td>\n",
       "      <td>Sports</td>\n",
       "      <td>ESFP</td>\n",
       "    </tr>\n",
       "    <tr>\n",
       "      <th>2</th>\n",
       "      <td>21.0</td>\n",
       "      <td>Female</td>\n",
       "      <td>0</td>\n",
       "      <td>7.08615</td>\n",
       "      <td>3.388433</td>\n",
       "      <td>2.66188</td>\n",
       "      <td>5.127320</td>\n",
       "      <td>Unknown</td>\n",
       "      <td>ENFP</td>\n",
       "    </tr>\n",
       "    <tr>\n",
       "      <th>3</th>\n",
       "      <td>28.0</td>\n",
       "      <td>Male</td>\n",
       "      <td>0</td>\n",
       "      <td>2.01892</td>\n",
       "      <td>4.823624</td>\n",
       "      <td>7.30625</td>\n",
       "      <td>5.986550</td>\n",
       "      <td>Others</td>\n",
       "      <td>INTP</td>\n",
       "    </tr>\n",
       "    <tr>\n",
       "      <th>4</th>\n",
       "      <td>36.0</td>\n",
       "      <td>Female</td>\n",
       "      <td>1</td>\n",
       "      <td>9.91703</td>\n",
       "      <td>4.755080</td>\n",
       "      <td>5.31469</td>\n",
       "      <td>4.677213</td>\n",
       "      <td>Technology</td>\n",
       "      <td>ENFP</td>\n",
       "    </tr>\n",
       "    <tr>\n",
       "      <th>5</th>\n",
       "      <td>25.0</td>\n",
       "      <td>Male</td>\n",
       "      <td>0</td>\n",
       "      <td>7.66292</td>\n",
       "      <td>5.758030</td>\n",
       "      <td>1.97014</td>\n",
       "      <td>4.563907</td>\n",
       "      <td>Others</td>\n",
       "      <td>ENFP</td>\n",
       "    </tr>\n",
       "    <tr>\n",
       "      <th>6</th>\n",
       "      <td>26.0</td>\n",
       "      <td>Female</td>\n",
       "      <td>1</td>\n",
       "      <td>2.73185</td>\n",
       "      <td>5.898910</td>\n",
       "      <td>3.64832</td>\n",
       "      <td>5.800525</td>\n",
       "      <td>Unknown</td>\n",
       "      <td>INFP</td>\n",
       "    </tr>\n",
       "    <tr>\n",
       "      <th>7</th>\n",
       "      <td>27.0</td>\n",
       "      <td>Female</td>\n",
       "      <td>0</td>\n",
       "      <td>5.24958</td>\n",
       "      <td>5.963290</td>\n",
       "      <td>1.16176</td>\n",
       "      <td>5.873350</td>\n",
       "      <td>Sports</td>\n",
       "      <td>ENFJ</td>\n",
       "    </tr>\n",
       "    <tr>\n",
       "      <th>8</th>\n",
       "      <td>29.0</td>\n",
       "      <td>Male</td>\n",
       "      <td>0</td>\n",
       "      <td>8.86018</td>\n",
       "      <td>3.681570</td>\n",
       "      <td>7.78505</td>\n",
       "      <td>1.640560</td>\n",
       "      <td>Others</td>\n",
       "      <td>ENTP</td>\n",
       "    </tr>\n",
       "    <tr>\n",
       "      <th>9</th>\n",
       "      <td>24.0</td>\n",
       "      <td>Female</td>\n",
       "      <td>0</td>\n",
       "      <td>1.62636</td>\n",
       "      <td>5.160906</td>\n",
       "      <td>7.25476</td>\n",
       "      <td>3.825849</td>\n",
       "      <td>Technology</td>\n",
       "      <td>INTP</td>\n",
       "    </tr>\n",
       "  </tbody>\n",
       "</table>\n",
       "</div>"
      ],
      "text/plain": [
       "    Age  Gender  Education  Introversion Score  Sensing Score  Thinking Score  \\\n",
       "0  19.0    Male          0             9.47080       7.141434         6.03696   \n",
       "1  27.0  Female          0             5.85392       6.160195         0.80552   \n",
       "2  21.0  Female          0             7.08615       3.388433         2.66188   \n",
       "3  28.0    Male          0             2.01892       4.823624         7.30625   \n",
       "4  36.0  Female          1             9.91703       4.755080         5.31469   \n",
       "5  25.0    Male          0             7.66292       5.758030         1.97014   \n",
       "6  26.0  Female          1             2.73185       5.898910         3.64832   \n",
       "7  27.0  Female          0             5.24958       5.963290         1.16176   \n",
       "8  29.0    Male          0             8.86018       3.681570         7.78505   \n",
       "9  24.0  Female          0             1.62636       5.160906         7.25476   \n",
       "\n",
       "   Judging Score    Interest Personality  \n",
       "0       4.360278     Unknown        ENFP  \n",
       "1       4.221421      Sports        ESFP  \n",
       "2       5.127320     Unknown        ENFP  \n",
       "3       5.986550      Others        INTP  \n",
       "4       4.677213  Technology        ENFP  \n",
       "5       4.563907      Others        ENFP  \n",
       "6       5.800525     Unknown        INFP  \n",
       "7       5.873350      Sports        ENFJ  \n",
       "8       1.640560      Others        ENTP  \n",
       "9       3.825849  Technology        INTP  "
      ]
     },
     "execution_count": 4,
     "metadata": {},
     "output_type": "execute_result"
    }
   ],
   "source": [
    "df.head(10)"
   ]
  },
  {
   "cell_type": "markdown",
   "id": "43d9ada9-1955-4cd8-b189-dee7f278ee00",
   "metadata": {},
   "source": [
    "This synthetic dataset is designed to explore and predict Myers-Briggs Type Indicator (MBTI) personality types based on a combination of demographic factors, interest areas, and personality scores. It includes 100K+ samples, each representing an individual with various features that contribute to determining their MBTI type. Features included in this dataset are:\n",
    "\n",
    "**Age**: A continuous variable representing the age of the individual.\n",
    "\n",
    "**Gender**: A categorical variable indicating the gender of the individual. Possible values are 'Male' and 'Female'.\n",
    "\n",
    "**Education**: A binary variable, A value of 1 indicates the individual has at least a graduate-level education (or higher), and 0 indicates an undergraduate, high school level or Uneducated.\n",
    "\n",
    "**Interest**: A categorical variable representing the individual's primary area of interest.\n",
    "\n",
    "**Introversion Score**: A continuous variable ranging from 0 to 10, representing the individual's tendency toward introversion versus extraversion. Higher scores indicate a greater tendency toward extraversion.\n",
    "\n",
    "**Sensing Score**: A continuous variable ranging from 0 to 10, representing the individual's preference for sensing versus intuition. Higher scores indicate a preference for sensing.\n",
    "\n",
    "**Thinking Score**: A continuous variable ranging from 0 to 10, indicating the individual's preference for thinking versus feeling. Higher scores indicate a preference for thinking.\n",
    "\n",
    "**Judging Score**: A continuous variable ranging from 0 to 10, representing the individual's preference for judging versus perceiving. Higher scores indicate a preference for judging.\n",
    "\n",
    "**Personality**: Target that contains People Personality Type\n",
    "\n",
    "The main goal for this project is to use different machine learning models to make prediction related to a person personality based on MBTI score. Since, the target variable contains multiple types of characteristics, its make the problem becomes a multiclass-classification."
   ]
  },
  {
   "cell_type": "markdown",
   "id": "f3191b2b-b0bd-4cc8-8e62-a03c2b08a793",
   "metadata": {},
   "source": [
    "## 1.2 Data cleaning and processing"
   ]
  },
  {
   "cell_type": "markdown",
   "id": "c57ecfb4-22b5-4263-acea-625722c63a72",
   "metadata": {},
   "source": [
    "### inconsistent column names"
   ]
  },
  {
   "cell_type": "code",
   "execution_count": 5,
   "id": "8611d901-da19-4698-b426-8763d664bb55",
   "metadata": {},
   "outputs": [
    {
     "name": "stdout",
     "output_type": "stream",
     "text": [
      "['age', 'gender', 'education', 'introversion_score', 'sensing_score', 'thinking_score', 'judging_score', 'interest', 'personality']\n"
     ]
    }
   ],
   "source": [
    "df.columns = df.columns.str.lower().str.replace(\" \", \"_\")\n",
    "print(list(df.columns))"
   ]
  },
  {
   "cell_type": "markdown",
   "id": "fd9f9dc0-300a-407a-8974-2cf32b92b64f",
   "metadata": {},
   "source": [
    "### missing values"
   ]
  },
  {
   "cell_type": "code",
   "execution_count": 6,
   "id": "798c9bdb-5662-4d83-bdee-d4118cfd7829",
   "metadata": {},
   "outputs": [
    {
     "data": {
      "text/plain": [
       "age                   0\n",
       "gender                0\n",
       "education             0\n",
       "introversion_score    0\n",
       "sensing_score         0\n",
       "thinking_score        0\n",
       "judging_score         0\n",
       "interest              0\n",
       "personality           0\n",
       "dtype: int64"
      ]
     },
     "execution_count": 6,
     "metadata": {},
     "output_type": "execute_result"
    }
   ],
   "source": [
    "df.isnull().sum()"
   ]
  },
  {
   "cell_type": "markdown",
   "id": "fa11a618-44f8-417e-9f1a-0cc688b40efd",
   "metadata": {},
   "source": [
    "$\\to$ No null values were found. \"Unknown\" values in 'interest' feature are keept as they are one of a way to handle missing values."
   ]
  },
  {
   "cell_type": "markdown",
   "id": "5d6f229e-d601-421d-ac5b-bdc50f3c628e",
   "metadata": {},
   "source": [
    "### duplicated values"
   ]
  },
  {
   "cell_type": "code",
   "execution_count": 7,
   "id": "b9bcbbb2-94a6-4ed6-bbfa-150bb8f3bde3",
   "metadata": {},
   "outputs": [
    {
     "data": {
      "text/plain": [
       "np.float64(0.0)"
      ]
     },
     "execution_count": 7,
     "metadata": {},
     "output_type": "execute_result"
    }
   ],
   "source": [
    "dups_propotion = df.duplicated().sum()/df.shape[0]\n",
    "dups_propotion"
   ]
  },
  {
   "cell_type": "markdown",
   "id": "20df946f-01fd-4afc-8d3a-940eb5d3e37f",
   "metadata": {},
   "source": [
    "$\\to$ Contains no duplicated values"
   ]
  },
  {
   "cell_type": "markdown",
   "id": "ddff72a2-044a-44aa-98fd-8cc2bf739005",
   "metadata": {},
   "source": [
    "### identify categorical and numerical features"
   ]
  },
  {
   "cell_type": "code",
   "execution_count": 8,
   "id": "35a10c5c-5747-402e-ae5f-c3b17ea9db98",
   "metadata": {},
   "outputs": [
    {
     "data": {
      "text/plain": [
       "(['gender', 'interest', 'personality', 'education'],\n",
       " ['age',\n",
       "  'introversion_score',\n",
       "  'sensing_score',\n",
       "  'thinking_score',\n",
       "  'judging_score'])"
      ]
     },
     "execution_count": 8,
     "metadata": {},
     "output_type": "execute_result"
    }
   ],
   "source": [
    "cat_f = list(df.select_dtypes(include='object'))\n",
    "cat_f.append('education')\n",
    "num_f = list(df.drop(columns=cat_f).columns)\n",
    "\n",
    "cat_f, num_f"
   ]
  },
  {
   "cell_type": "code",
   "execution_count": 9,
   "id": "111bfdc4-9af9-4c91-8be3-be7e3aab762e",
   "metadata": {},
   "outputs": [],
   "source": [
    "# remove target variable\n",
    "cat_f.remove('personality')"
   ]
  },
  {
   "cell_type": "markdown",
   "id": "9c04b260-d88e-4a82-854e-3c0290dbedc6",
   "metadata": {},
   "source": [
    "- Target variable: 'personality'\n",
    "- Categorical features: 'gender', 'interest', 'education'\n",
    "- Numerical features: 'age', 'introversion_score', 'sensing_score', 'thinking_score', 'judging_score'"
   ]
  },
  {
   "cell_type": "markdown",
   "id": "f802e533-63bb-450a-999a-e06d35309a48",
   "metadata": {},
   "source": [
    "### target label encoding"
   ]
  },
  {
   "cell_type": "code",
   "execution_count": 10,
   "id": "9ec738ce-93c9-4755-86ba-4af050c3800a",
   "metadata": {},
   "outputs": [
    {
     "data": {
      "text/plain": [
       "personality\n",
       "1     34404\n",
       "3     24718\n",
       "9     24711\n",
       "11    17132\n",
       "5      4832\n",
       "0      3883\n",
       "13     3456\n",
       "7      3334\n",
       "8      2919\n",
       "2      2783\n",
       "15     2390\n",
       "10     1920\n",
       "4       554\n",
       "6       392\n",
       "12      371\n",
       "14      262\n",
       "Name: count, dtype: int64"
      ]
     },
     "execution_count": 10,
     "metadata": {},
     "output_type": "execute_result"
    }
   ],
   "source": [
    "le = LabelEncoder()\n",
    "df.personality = le.fit_transform(df.personality)\n",
    "df.personality.value_counts()"
   ]
  },
  {
   "cell_type": "code",
   "execution_count": 11,
   "id": "00aecf95-d72d-49c9-bd32-5aaaa55c0dd6",
   "metadata": {},
   "outputs": [
    {
     "data": {
      "text/plain": [
       "{0: 'ENFJ',\n",
       " 1: 'ENFP',\n",
       " 2: 'ENTJ',\n",
       " 3: 'ENTP',\n",
       " 4: 'ESFJ',\n",
       " 5: 'ESFP',\n",
       " 6: 'ESTJ',\n",
       " 7: 'ESTP',\n",
       " 8: 'INFJ',\n",
       " 9: 'INFP',\n",
       " 10: 'INTJ',\n",
       " 11: 'INTP',\n",
       " 12: 'ISFJ',\n",
       " 13: 'ISFP',\n",
       " 14: 'ISTJ',\n",
       " 15: 'ISTP'}"
      ]
     },
     "execution_count": 11,
     "metadata": {},
     "output_type": "execute_result"
    }
   ],
   "source": [
    "# create a dictionary to store mapped values for further investigation\n",
    "personality_label = dict(map(lambda i, j: (i, j), \n",
    "                             range(len(le.classes_)), le.classes_))\n",
    "\n",
    "personality_label"
   ]
  },
  {
   "cell_type": "markdown",
   "id": "87c540a8-6b3a-48bb-863e-723281965835",
   "metadata": {},
   "source": [
    "### feature importance and engineering"
   ]
  },
  {
   "cell_type": "code",
   "execution_count": 12,
   "id": "bb0c08b5-9deb-4c51-a536-27da762bf0db",
   "metadata": {},
   "outputs": [
    {
     "name": "stdout",
     "output_type": "stream",
     "text": [
      "gender\n",
      "Male      70432\n",
      "Female    57629\n",
      "Name: count, dtype: int64 \n",
      "\n",
      "Mutual info between retention and gender: 0.009695886596935873 \n",
      "\n",
      "interest\n",
      "Unknown       48835\n",
      "Arts          25489\n",
      "Others        21733\n",
      "Technology    19103\n",
      "Sports        12901\n",
      "Name: count, dtype: int64 \n",
      "\n",
      "Mutual info between retention and interest: 0.011921222195182116 \n",
      "\n",
      "education\n",
      "0    75408\n",
      "1    52653\n",
      "Name: count, dtype: int64 \n",
      "\n",
      "Mutual info between retention and education: 0.057346709323561486 \n",
      "\n"
     ]
    }
   ],
   "source": [
    "for col in cat_f:\n",
    "    print(df[col].value_counts(), \"\\n\")\n",
    "    print(f\"Mutual info between retention and {col}: {mutual_info_score(df.personality, df[col])}\", \"\\n\")"
   ]
  },
  {
   "cell_type": "markdown",
   "id": "9f2f110b-284c-43e8-be47-fa589bfe46d7",
   "metadata": {},
   "source": [
    "$\\to$ The mutual information of each categorical feature tell us that gender is likely to not produce any useful information in predicting personality. Hence, we will exclude it from the models."
   ]
  },
  {
   "cell_type": "code",
   "execution_count": 13,
   "id": "f2782a57-14bf-4f24-b0b3-5c6478c2110b",
   "metadata": {},
   "outputs": [
    {
     "data": {
      "text/plain": [
       "age                   0.057918\n",
       "introversion_score   -0.757621\n",
       "sensing_score         0.157343\n",
       "thinking_score        0.191506\n",
       "judging_score        -0.030594\n",
       "dtype: float64"
      ]
     },
     "execution_count": 13,
     "metadata": {},
     "output_type": "execute_result"
    }
   ],
   "source": [
    "df[num_f].corrwith(df.personality)"
   ]
  },
  {
   "cell_type": "markdown",
   "id": "595b56f4-d5ab-427e-b642-39e4313b8dcb",
   "metadata": {},
   "source": [
    "$\\to$ Based on the correlation between different numerical features, we can see that **introversion_score**, **sensing_score,** and **thinking_score** are considered to have impact on inferencing a person trait. Especially, introversion_score are observed to be the most effected one."
   ]
  },
  {
   "cell_type": "markdown",
   "id": "cd830a88-690d-4fd0-b971-f1a8be28a737",
   "metadata": {},
   "source": [
    "As a result, the following features will be used for model training:"
   ]
  },
  {
   "cell_type": "code",
   "execution_count": 14,
   "id": "9b6e0bfc-2286-4a89-a4da-7b46aa1bc8ef",
   "metadata": {},
   "outputs": [
    {
     "data": {
      "text/plain": [
       "(['interest', 'education'],\n",
       " ['introversion_score', 'sensing_score', 'thinking_score'])"
      ]
     },
     "execution_count": 14,
     "metadata": {},
     "output_type": "execute_result"
    }
   ],
   "source": [
    "cat_f = [x for x in cat_f if x != 'gender']\n",
    "num_f = [x for x in num_f if x not in ['age', 'judging_score']]\n",
    "\n",
    "cat_f, num_f"
   ]
  },
  {
   "cell_type": "markdown",
   "id": "3157ddb7-c2ca-4e26-9c8c-ea15e0ad830b",
   "metadata": {},
   "source": [
    "### outliers"
   ]
  },
  {
   "cell_type": "code",
   "execution_count": 15,
   "id": "8a58c725-2d30-4926-8990-261de4ee73f7",
   "metadata": {},
   "outputs": [
    {
     "data": {
      "image/png": "[encoded data removed]",
      "text/plain": [
       "<Figure size 1000x1500 with 3 Axes>"
      ]
     },
     "metadata": {},
     "output_type": "display_data"
    }
   ],
   "source": [
    "plt.figure(figsize=(10, 15))\n",
    "for i, col in enumerate(num_f):\n",
    "    plt.subplot(5, 2, i + 1)\n",
    "    sns.boxplot(df, x=col)\n",
    "plt.tight_layout()\n",
    "plt.show()"
   ]
  },
  {
   "cell_type": "markdown",
   "id": "f7aa3763-04a6-4d5c-b7a9-cf4ff610148d",
   "metadata": {},
   "source": [
    "$\\to$ From the boxplots, we can observe that **sensing_score** varible contains multiple outilers that need to be addressed. But before we can decide wheter or not to remove outliers, it is important to first investigate the reason behind the existence of these values. And since some models are more sensitive to outliers than other, it also depends on the type of models we choose. Therefore, we will try to deal with outliers only when needed"
   ]
  },
  {
   "cell_type": "markdown",
   "id": "efa46e09-3076-4c68-8ed9-387e208d5d61",
   "metadata": {},
   "source": [
    "## 1.3 Validation framework"
   ]
  },
  {
   "cell_type": "markdown",
   "id": "611dff19-8802-490f-992c-d297f3f0648f",
   "metadata": {},
   "source": [
    "For this project, i will not follow the validation framework of 60 train, 20 validate, and 20 test. KFold Cross-validation will be used instead.\n",
    "\n",
    "Guide: [Cross-validation](https://scikit-learn.org/stable/modules/cross_validation.html#cross-validation)\n",
    "```mermaid\n",
    "graph TD\n",
    "    A[Parameters] --> B[Cross-validation - KFold]\n",
    "    J[Features transform] --> B\n",
    "    D[Dataset] --> E[Full Training data]\n",
    "    D --> F[Test data]\n",
    "    E --> B\n",
    "    B --> G[Best parameters - GridSearch]\n",
    "    G --> H[Retrained model]\n",
    "    E --> H\n",
    "    H --> I[Final evaluation]\n",
    "    F --> I\n",
    "```"
   ]
  },
  {
   "cell_type": "code",
   "execution_count": 90,
   "id": "2e8c6349-5972-4f1b-ae86-179841560050",
   "metadata": {},
   "outputs": [],
   "source": [
    "# aggregate used features\n",
    "features = cat_f + num_f\n",
    "features.append('personality')\n",
    "\n",
    "# split data to trani and test sets\n",
    "df_full_train, df_test = train_test_split(df[features], \n",
    "                                          test_size=0.2, \n",
    "                                          random_state=1)\n",
    "\n",
    "# reset index\n",
    "df_full_train = df_full_train.reset_index(drop=True)\n",
    "df_test = df_test.reset_index(drop=True)\n",
    "\n",
    "# get features and target\n",
    "y_train = df_full_train.pop('personality') # remove target from current dataset\n",
    "X_train = df_full_train\n",
    "\n",
    "y_test = df_test.pop('personality')\n",
    "X_test = df_test"
   ]
  },
  {
   "cell_type": "markdown",
   "id": "6840c04a-f9dd-469c-9f70-d35f1c2a8cd8",
   "metadata": {},
   "source": [
    "## 1.4 Features scaling and encoding\n",
    "Features transforming will be conducted during Cross-validation process as to prevent data leakage. And to ensure a consistent workflow between each model evaluation, i came up with a wrapper class that will handle most of the required works.\n",
    "```mermaid\n",
    "graph TD\n",
    "    A[Feature transform] --> B[Cross-validation]\n",
    "    A --> C[Full Training data]\n",
    "    A --> D[Test data]\n",
    "```\n",
    "\n",
    "References:\n",
    "- [sklearn.pipeline.Pipeline](https://scikit-learn.org/stable/modules/generated/sklearn.pipeline.Pipeline.html#sklearn.pipeline.Pipeline)\n",
    "- [sklearn.compose.ColumnTransformer](https://scikit-learn.org/stable/modules/generated/sklearn.compose.ColumnTransformer.html)\n",
    "- [return self](https://stackoverflow.com/questions/43380042/purpose-of-return-self-python)"
   ]
  },
  {
   "cell_type": "code",
   "execution_count": 111,
   "id": "e966082d-7979-4170-ac29-3be10b45e0bc",
   "metadata": {},
   "outputs": [],
   "source": [
    "class ParamsTunning:\n",
    "    def __init__(self, model, param_grid, num_f, cat_f,\n",
    "                 n_splits=5, scoring='accuracy', n_jobs=-1, verbose=2):\n",
    "        # required params\n",
    "        self.model = model\n",
    "        self.num = num_f\n",
    "        self.cat = cat_f\n",
    "        self.param_grid = param_grid\n",
    "\n",
    "        # non-required params\n",
    "        self.n_splits = n_splits\n",
    "        self.scoring = scoring\n",
    "        self.n_jobs = n_jobs\n",
    "        self.verbose = verbose\n",
    "\n",
    "        # predefined params\n",
    "        self.pipeline = None\n",
    "\n",
    "    def fit(self, X, y):\n",
    "        \"\"\"\n",
    "        Fit the pipeline using grid search cross-validation.\n",
    "        \n",
    "        Parameters:\n",
    "        -----------\n",
    "        X : pandas DataFrame\n",
    "            Training features\n",
    "        y : array-like\n",
    "            Target variable\n",
    "        \"\"\"\n",
    "        # initialize pipeline\n",
    "        self.__create_pipeline()\n",
    "\n",
    "        # create a grid search\n",
    "        grid_search = GridSearchCV(\n",
    "            self.pipeline,\n",
    "            self.param_grid,\n",
    "            cv=self.n_splits,\n",
    "            scoring=self.scoring,\n",
    "            n_jobs=self.n_jobs,\n",
    "            verbose=self.verbose\n",
    "        )\n",
    "\n",
    "        # fit the model\n",
    "        grid_search.fit(X, y)\n",
    "        \n",
    "        return grid_search\n",
    "        \n",
    "    def __create_pipeline(self):\n",
    "        \"\"\"Features transforming\"\"\"\n",
    "        num_transformer = Pipeline(steps=[\n",
    "            ('scaler', StandardScaler())\n",
    "        ])\n",
    "        \n",
    "        cat_transformer = Pipeline(steps=[\n",
    "            ('onehot', OneHotEncoder(sparse_output=False, handle_unknown='ignore'))\n",
    "        ])\n",
    "\n",
    "        f_preprocessor = ColumnTransformer(\n",
    "            transformers=[\n",
    "                ('num', num_transformer, self.num),\n",
    "                ('cat', cat_transformer, self.cat)\n",
    "            ]\n",
    "        )\n",
    "\n",
    "        self.pipeline = Pipeline([\n",
    "            ('preprocessor', f_preprocessor),\n",
    "            ('classifier', self.model)\n",
    "        ])"
   ]
  },
  {
   "cell_type": "code",
   "execution_count": 123,
   "id": "b8bcde7f-a1b7-4720-bb0f-ce19a9ce632a",
   "metadata": {},
   "outputs": [],
   "source": [
    "def f_transform(X_input, num_f, cat_f):\n",
    "    scaler = StandardScaler()\n",
    "    encoder = OneHotEncoder(sparse_output=False, handle_unknown='ignore')\n",
    "    scaler.fit(X_input[num_f].values)\n",
    "    encoder.fit(X_input[cat_f].values)\n",
    "    X_num = scaler.transform(X_input[num_f].values)\n",
    "    X_cat = encoder.transform(X_input[cat_f].values)\n",
    "    return np.column_stack([X_num, X_cat]) "
   ]
  },
  {
   "cell_type": "code",
   "execution_count": null,
   "id": "39686d4c-0586-4766-bdb6-769236d9445c",
   "metadata": {
    "jupyter": {
     "source_hidden": true
    }
   },
   "outputs": [],
   "source": [
    "# generalize process of model prediction to use in KFold\n",
    "class KFold_ModelsWrapper:\n",
    "    def __init__(self, model, data, target, numerical=[], categorical=[]):\n",
    "        # feature transformation\n",
    "        self.scaler = StandardScaler()\n",
    "        self.encoder = OneHotEncoder(sparse_output=False, handle_unknown='ignore')\n",
    "        # classifier parameters\n",
    "        self.model = model\n",
    "        self.data = data\n",
    "        self.target = target\n",
    "        self.n_feature = numerical\n",
    "        self.c_feature = categorical\n",
    "\n",
    "    def splits(self, train_idx, val_idx):\n",
    "        # create train and validation splits\n",
    "        train_data = self.data.iloc[train_idx].copy()\n",
    "        val_data = self.data.iloc[val_idx].copy()\n",
    "\n",
    "        # extract target variables\n",
    "        y_train = train_data.pop(self.target).values\n",
    "        y_val = val_data.pop(self.target).values\n",
    "\n",
    "        # fit features transformers on the trainining set\n",
    "        self.__f_fit(train_data)\n",
    "\n",
    "        # transformt the features\n",
    "        X_train = self.__f_transform(train_data)\n",
    "        X_val = self.__f_transform(val_data)\n",
    "\n",
    "        return (X_train, y_train), (X_val, y_val)\n",
    "\n",
    "    def predict_new(self, input):\n",
    "        return self.model.predict(self.__f_transform(input))\n",
    "        \n",
    "    def __f_fit(self, df):\n",
    "        # feature transfomers with Standard Scaler and One-hot Encoding\n",
    "        if self.n_feature: self.scaler.fit(df[self.n_feature].values)\n",
    "        if self.c_feature: self.encoder.fit(df[self.c_feature].values)\n",
    "\n",
    "    def __f_transform(self, X_input):\n",
    "        X_num = self.scaler.transform(X_input[self.n_feature].values)\n",
    "        X_cat = self.encoder.transform(X_input[self.c_feature].values)\n",
    "        return np.column_stack([X_num, X_cat])    \n",
    "        \n",
    "    def cross_validate(self, folds=5, random_state=None):\n",
    "        kf = KFold(n_splits=folds, shuffle=True, random_state=random_state)\n",
    "        result = []\n",
    "    \n",
    "        for train_idx, val_idx in tqdm(kf.split(self.data)):\n",
    "            (X_train, y_train), (X_val, y_val) = self.splits(train_idx, val_idx)\n",
    "\n",
    "            self.model.fit(X_train, y_train)\n",
    "            y_pred = self.model.predict_proba(X_val)\n",
    "\n",
    "            score = roc_auc_score(y_val, y_pred, \n",
    "                                  multi_class='ovr', \n",
    "                                  average='weighted')\n",
    "            result.append(score)\n",
    "        \n",
    "        return np.mean(result)"
   ]
  },
  {
   "cell_type": "markdown",
   "id": "4edce4df-9ab5-41eb-8930-61dbfcbeab9e",
   "metadata": {},
   "source": [
    "# Part 2: Model training\n",
    "List of models used in this project:\n",
    "- Logistic Regression\n",
    "- Decision Tree\n",
    "- Random Forest\n",
    "- Gradient Boosting Machines (XGBoot)"
   ]
  },
  {
   "cell_type": "markdown",
   "id": "8111adc5-252a-4c4b-a074-7c4f0dbca798",
   "metadata": {},
   "source": [
    "## 2.1 Logistic Regression\n",
    "Document: [Scikit-learn Logistic Regression](https://scikit-learn.org/stable/modules/generated/sklearn.linear_model.LogisticRegression.html)"
   ]
  },
  {
   "cell_type": "markdown",
   "id": "33c799e4-b4d1-4be3-a305-15b8523656eb",
   "metadata": {},
   "source": [
    "#### optional: \n",
    "Hypothesis: $\\to$ No need to use StandardScaler as all the numerical features here have approximate close range.\n",
    "- Comparing model performance with and without StandardScaler"
   ]
  },
  {
   "cell_type": "markdown",
   "id": "baa7b012-e41c-43ab-9612-366fc5e650d1",
   "metadata": {},
   "source": [
    "### model implementation"
   ]
  },
  {
   "cell_type": "code",
   "execution_count": 126,
   "id": "3a0a0958-05b4-49b7-b753-5ac54b4c6a77",
   "metadata": {},
   "outputs": [
    {
     "name": "stdout",
     "output_type": "stream",
     "text": [
      "              precision    recall  f1-score   support\n",
      "\n",
      "           0       0.00      0.00      0.00         0\n",
      "           1       0.86      0.74      0.80      7966\n",
      "           2       0.00      0.00      0.00         0\n",
      "           3       0.83      0.73      0.78      5676\n",
      "           4       0.00      0.00      0.00         0\n",
      "           5       0.41      0.51      0.45       781\n",
      "           6       0.00      0.00      0.00         0\n",
      "           7       0.42      0.47      0.44       583\n",
      "           8       0.00      0.00      0.00         0\n",
      "           9       0.83      0.72      0.77      5728\n",
      "          10       0.00      0.00      0.00         0\n",
      "          11       0.82      0.72      0.76      3911\n",
      "          12       0.00      0.00      0.00         0\n",
      "          13       0.38      0.46      0.42       574\n",
      "          14       0.00      0.00      0.00         0\n",
      "          15       0.40      0.51      0.45       394\n",
      "\n",
      "    accuracy                           0.71     25613\n",
      "   macro avg       0.31      0.30      0.30     25613\n",
      "weighted avg       0.80      0.71      0.75     25613\n",
      "\n"
     ]
    }
   ],
   "source": [
    "logR = LogisticRegression(max_iter=1500, penalty=None)\n",
    "logR.fit(f_transform(X_train, num_f, cat_f), y_train)\n",
    "\n",
    "y_pred = logR.predict(f_transform(X_test, num_f, cat_f))\n",
    "report = classification_report(y_pred, y_test, zero_division=0)\n",
    "print(report)"
   ]
  },
  {
   "cell_type": "markdown",
   "id": "5fa21bad-2992-4ba3-9bc7-989c30acaf0b",
   "metadata": {},
   "source": [
    "$\\to$ Evaluation goes here"
   ]
  },
  {
   "cell_type": "markdown",
   "id": "53c64b7f-feac-425c-92a3-25dc584e982c",
   "metadata": {},
   "source": [
    "### hyperparameter tunning"
   ]
  },
  {
   "cell_type": "markdown",
   "id": "b17b7523-31a5-4010-9dc6-6766c78bbeb5",
   "metadata": {},
   "source": [
    "### optional:\n",
    "- Explain what is regularize and gradient descent\n",
    "- Choose the best parameter before conduct a KFold validation"
   ]
  },
  {
   "cell_type": "code",
   "execution_count": 112,
   "id": "7cfefe57-0b95-4779-b223-fd542e132af6",
   "metadata": {},
   "outputs": [
    {
     "name": "stdout",
     "output_type": "stream",
     "text": [
      "Fitting 10 folds for each of 5 candidates, totalling 50 fits\n",
      "{'classifier__C': 1.0}\n"
     ]
    }
   ],
   "source": [
    "paramsT = ParamsTunning(\n",
    "    model = LogisticRegression(solver='saga', max_iter=1000),\n",
    "    param_grid = {\n",
    "        'classifier__C': [0.000001, 0.001, 0.01, 1.0, 1.5]\n",
    "    },\n",
    "    num_f = num_f,\n",
    "    cat_f = cat_f,\n",
    "    n_splits = 10,\n",
    "    verbose=1\n",
    ")\n",
    "\n",
    "result = paramsT.fit(X_train, y_train)\n",
    "print(result.best_params_)"
   ]
  },
  {
   "cell_type": "code",
   "execution_count": null,
   "id": "ea2c9ac1-5814-47a8-b2cf-e0bfa9950b94",
   "metadata": {
    "jupyter": {
     "source_hidden": true
    }
   },
   "outputs": [],
   "source": [
    "scores = []\n",
    "for C in tqdm([0.000001, 0.001, 0.01, 1.0, 1.5]):\n",
    "    logR = LogisticRegression(solver='saga', C=C, max_iter=1000)\n",
    "    logR.fit(X_train, y_train)\n",
    "    \n",
    "    y_pred = logR.predict_proba(X_val)\n",
    "    score = roc_auc_score(y_val, y_pred, \n",
    "                          multi_class='ovr',\n",
    "                          average='weighted')\n",
    "    scores.append((C, score))"
   ]
  },
  {
   "cell_type": "markdown",
   "id": "193683f7-220e-42a3-a4b6-b57c65433136",
   "metadata": {},
   "source": [
    "## 2.2 Decision Tree"
   ]
  },
  {
   "cell_type": "markdown",
   "id": "68aa8b8c-d91f-4036-ab39-df0a56e374bf",
   "metadata": {},
   "source": [
    "### model implementation"
   ]
  },
  {
   "cell_type": "code",
   "execution_count": 128,
   "id": "819e56c3-4501-4d36-8e72-8f8535856804",
   "metadata": {},
   "outputs": [
    {
     "name": "stdout",
     "output_type": "stream",
     "text": [
      "              precision    recall  f1-score   support\n",
      "\n",
      "           0       0.17      0.16      0.17       833\n",
      "           1       0.75      0.75      0.75      6870\n",
      "           2       0.19      0.16      0.17       646\n",
      "           3       0.72      0.73      0.73      4878\n",
      "           4       0.08      0.08      0.08       128\n",
      "           5       0.47      0.49      0.48       939\n",
      "           6       0.14      0.12      0.13        88\n",
      "           7       0.46      0.48      0.47       628\n",
      "           8       0.17      0.15      0.16       612\n",
      "           9       0.71      0.71      0.71      4906\n",
      "          10       0.22      0.17      0.19       445\n",
      "          11       0.69      0.71      0.70      3337\n",
      "          12       0.07      0.06      0.07       100\n",
      "          13       0.44      0.45      0.45       676\n",
      "          14       0.08      0.11      0.09        46\n",
      "          15       0.46      0.47      0.46       481\n",
      "\n",
      "    accuracy                           0.64     25613\n",
      "   macro avg       0.36      0.36      0.36     25613\n",
      "weighted avg       0.63      0.64      0.63     25613\n",
      "\n"
     ]
    }
   ],
   "source": [
    "decT = DecisionTreeClassifier()\n",
    "decT.fit(f_transform(X_train, num_f, cat_f), y_train)\n",
    "\n",
    "y_pred = decT.predict(f_transform(X_test, num_f, cat_f))\n",
    "report = classification_report(y_pred, y_test, zero_division=0)\n",
    "print(report)"
   ]
  },
  {
   "cell_type": "markdown",
   "id": "30d6e7d2-a122-4c43-aef3-a23d7f3794ea",
   "metadata": {},
   "source": [
    "### hyperparameter tunning\n",
    "- Let the tree grows too long can lead to overfitting as the tree will just simply create infinite combinations according to the current observed, hence we need to minimize number of branches as many as possible\n",
    "- stop criteria:\n",
    "    - group reach pure state\n",
    "    - tree reached depth limit (max_depth)\n",
    "    - group become too small to split (min_samples_leaf) "
   ]
  },
  {
   "cell_type": "code",
   "execution_count": 109,
   "id": "fd6cc430-cd6a-429b-ad72-d0709effbf05",
   "metadata": {},
   "outputs": [
    {
     "name": "stdout",
     "output_type": "stream",
     "text": [
      "Fitting 10 folds for each of 56 candidates, totalling 560 fits\n",
      "{'classifier__max_depth': 6, 'classifier__min_samples_leaf': 1}\n"
     ]
    }
   ],
   "source": [
    "params_search = ParamsTunning(\n",
    "    model = DecisionTreeClassifier(max_depth=10, min_samples_leaf=2),\n",
    "    param_grid = {\n",
    "        'classifier__max_depth': [6, 7, 8, 9, 10, 15, 20, None],\n",
    "        'classifier__min_samples_leaf': [1, 2, 5, 10, 15, 20, 100]\n",
    "    },\n",
    "    num_f = num_f,\n",
    "    cat_f = cat_f,\n",
    "    n_splits = 10,\n",
    "    verbose=3\n",
    ")\n",
    "\n",
    "params_search.fit(X_train, y_train)\n",
    "print(params_search.grid_search.best_params_)"
   ]
  },
  {
   "cell_type": "code",
   "execution_count": null,
   "id": "695b2b5b-1b4d-4268-90a8-2e1bc199bdda",
   "metadata": {},
   "outputs": [],
   "source": [
    "scores = []\n",
    "for d in tqdm([6, 7, 8, 9, 10, 15, 20, None]):\n",
    "    for s in [1, 2, 5, 10, 15, 20, 100]:\n",
    "        decT = DecisionTreeClassifier(max_depth=10, min_samples_leaf=2)\n",
    "        decT.fit(X_train, y_train)\n",
    "        \n",
    "        y_pred = decT.predict_proba(X_val)\n",
    "        score = accuracy_score(y_val, y_pred)\n",
    "        scores.append((d, s, score))"
   ]
  },
  {
   "cell_type": "code",
   "execution_count": 57,
   "id": "973d67b8-e380-48df-a1a2-d0058ddfbf6f",
   "metadata": {},
   "outputs": [
    {
     "data": {
      "text/html": [
       "<div>\n",
       "<style scoped>\n",
       "    .dataframe tbody tr th:only-of-type {\n",
       "        vertical-align: middle;\n",
       "    }\n",
       "\n",
       "    .dataframe tbody tr th {\n",
       "        vertical-align: top;\n",
       "    }\n",
       "\n",
       "    .dataframe thead tr th {\n",
       "        text-align: left;\n",
       "    }\n",
       "\n",
       "    .dataframe thead tr:last-of-type th {\n",
       "        text-align: right;\n",
       "    }\n",
       "</style>\n",
       "<table border=\"1\" class=\"dataframe\">\n",
       "  <thead>\n",
       "    <tr>\n",
       "      <th></th>\n",
       "      <th colspan=\"8\" halign=\"left\">auc</th>\n",
       "    </tr>\n",
       "    <tr>\n",
       "      <th>max_depth</th>\n",
       "      <th>NaN</th>\n",
       "      <th>6.0</th>\n",
       "      <th>7.0</th>\n",
       "      <th>8.0</th>\n",
       "      <th>9.0</th>\n",
       "      <th>10.0</th>\n",
       "      <th>15.0</th>\n",
       "      <th>20.0</th>\n",
       "    </tr>\n",
       "    <tr>\n",
       "      <th>min_samples_leaf</th>\n",
       "      <th></th>\n",
       "      <th></th>\n",
       "      <th></th>\n",
       "      <th></th>\n",
       "      <th></th>\n",
       "      <th></th>\n",
       "      <th></th>\n",
       "      <th></th>\n",
       "    </tr>\n",
       "  </thead>\n",
       "  <tbody>\n",
       "    <tr>\n",
       "      <th>1</th>\n",
       "      <td>0.961</td>\n",
       "      <td>0.961</td>\n",
       "      <td>0.961</td>\n",
       "      <td>0.962</td>\n",
       "      <td>0.961</td>\n",
       "      <td>0.961</td>\n",
       "      <td>0.961</td>\n",
       "      <td>0.961</td>\n",
       "    </tr>\n",
       "    <tr>\n",
       "      <th>2</th>\n",
       "      <td>0.961</td>\n",
       "      <td>0.961</td>\n",
       "      <td>0.962</td>\n",
       "      <td>0.961</td>\n",
       "      <td>0.961</td>\n",
       "      <td>0.961</td>\n",
       "      <td>0.961</td>\n",
       "      <td>0.961</td>\n",
       "    </tr>\n",
       "    <tr>\n",
       "      <th>5</th>\n",
       "      <td>0.962</td>\n",
       "      <td>0.962</td>\n",
       "      <td>0.961</td>\n",
       "      <td>0.962</td>\n",
       "      <td>0.962</td>\n",
       "      <td>0.962</td>\n",
       "      <td>0.961</td>\n",
       "      <td>0.961</td>\n",
       "    </tr>\n",
       "    <tr>\n",
       "      <th>10</th>\n",
       "      <td>0.961</td>\n",
       "      <td>0.961</td>\n",
       "      <td>0.961</td>\n",
       "      <td>0.961</td>\n",
       "      <td>0.962</td>\n",
       "      <td>0.961</td>\n",
       "      <td>0.961</td>\n",
       "      <td>0.961</td>\n",
       "    </tr>\n",
       "    <tr>\n",
       "      <th>15</th>\n",
       "      <td>0.961</td>\n",
       "      <td>0.961</td>\n",
       "      <td>0.962</td>\n",
       "      <td>0.961</td>\n",
       "      <td>0.962</td>\n",
       "      <td>0.961</td>\n",
       "      <td>0.962</td>\n",
       "      <td>0.961</td>\n",
       "    </tr>\n",
       "    <tr>\n",
       "      <th>20</th>\n",
       "      <td>0.961</td>\n",
       "      <td>0.961</td>\n",
       "      <td>0.961</td>\n",
       "      <td>0.961</td>\n",
       "      <td>0.961</td>\n",
       "      <td>0.962</td>\n",
       "      <td>0.962</td>\n",
       "      <td>0.961</td>\n",
       "    </tr>\n",
       "    <tr>\n",
       "      <th>100</th>\n",
       "      <td>0.962</td>\n",
       "      <td>0.962</td>\n",
       "      <td>0.962</td>\n",
       "      <td>0.961</td>\n",
       "      <td>0.962</td>\n",
       "      <td>0.961</td>\n",
       "      <td>0.961</td>\n",
       "      <td>0.961</td>\n",
       "    </tr>\n",
       "  </tbody>\n",
       "</table>\n",
       "</div>"
      ],
      "text/plain": [
       "                    auc                                                 \n",
       "max_depth           NaN   6.0    7.0    8.0    9.0    10.0   15.0   20.0\n",
       "min_samples_leaf                                                        \n",
       "1                 0.961  0.961  0.961  0.962  0.961  0.961  0.961  0.961\n",
       "2                 0.961  0.961  0.962  0.961  0.961  0.961  0.961  0.961\n",
       "5                 0.962  0.962  0.961  0.962  0.962  0.962  0.961  0.961\n",
       "10                0.961  0.961  0.961  0.961  0.962  0.961  0.961  0.961\n",
       "15                0.961  0.961  0.962  0.961  0.962  0.961  0.962  0.961\n",
       "20                0.961  0.961  0.961  0.961  0.961  0.962  0.962  0.961\n",
       "100               0.962  0.962  0.962  0.961  0.962  0.961  0.961  0.961"
      ]
     },
     "execution_count": 57,
     "metadata": {},
     "output_type": "execute_result"
    }
   ],
   "source": [
    "columns = ['max_depth', 'min_samples_leaf', 'auc']\n",
    "df_scores = pd.DataFrame(scores, columns=columns)\n",
    "df_scores_pivot = df_scores.pivot(index='min_samples_leaf', columns=['max_depth'], values=['auc'])\n",
    "df_scores_pivot.round(3)"
   ]
  },
  {
   "cell_type": "markdown",
   "id": "75cd5f55-99a9-4e64-af1e-98bf201ea28d",
   "metadata": {},
   "source": [
    "## 2.3 Random Forest"
   ]
  },
  {
   "cell_type": "markdown",
   "id": "a4a61c25-77a7-43d1-928f-7fe51a20a63d",
   "metadata": {},
   "source": [
    "### model implementation"
   ]
  },
  {
   "cell_type": "code",
   "execution_count": null,
   "id": "a62c4e16-6f8f-4c3f-8218-37483f698e47",
   "metadata": {},
   "outputs": [],
   "source": []
  },
  {
   "cell_type": "markdown",
   "id": "b0b3a57b-865d-4cc9-976c-4bf5018ca872",
   "metadata": {},
   "source": [
    "### hyperparameter tunning"
   ]
  },
  {
   "cell_type": "code",
   "execution_count": null,
   "id": "8a06c248-c084-4513-91df-25209442105e",
   "metadata": {},
   "outputs": [],
   "source": []
  },
  {
   "cell_type": "markdown",
   "id": "e7b0d93f-9f91-48c3-a50c-30b224e10c7c",
   "metadata": {},
   "source": [
    "### model validation"
   ]
  },
  {
   "cell_type": "code",
   "execution_count": null,
   "id": "c2063646-08bd-4e32-87b5-32f06ff64972",
   "metadata": {},
   "outputs": [],
   "source": []
  },
  {
   "cell_type": "markdown",
   "id": "5bc7450d-318f-488d-b3fd-d226a50b9b2a",
   "metadata": {},
   "source": [
    "## 2.4 XGBoost"
   ]
  },
  {
   "cell_type": "code",
   "execution_count": null,
   "id": "4697d2fa-3b2d-4172-badd-f7566b213861",
   "metadata": {},
   "outputs": [],
   "source": []
  },
  {
   "cell_type": "markdown",
   "id": "b4a6aaa3-52e3-4abf-b0c7-f24a637b99a3",
   "metadata": {},
   "source": [
    "# Part 3: Deployment\n",
    "This include:\n",
    "- Save models to binary files\n",
    "- Export notebook to python script"
   ]
  },
  {
   "cell_type": "markdown",
   "id": "b75d398e-5fdb-4e40-a4a7-9a48aed51aff",
   "metadata": {},
   "source": [
    "## 3.1 Select a model"
   ]
  },
  {
   "cell_type": "code",
   "execution_count": null,
   "id": "3e33ded0-8f70-48fa-92bc-c9d95b947606",
   "metadata": {},
   "outputs": [],
   "source": []
  },
  {
   "cell_type": "markdown",
   "id": "334559d8-5a42-4235-a1b9-d91ca49f88c8",
   "metadata": {},
   "source": [
    "## 3.2 Export model"
   ]
  },
  {
   "cell_type": "code",
   "execution_count": null,
   "id": "f0f93346-ce7e-433f-a0bf-768ead31709a",
   "metadata": {},
   "outputs": [],
   "source": []
  }
 ],
 "metadata": {
  "kernelspec": {
   "display_name": "Python 3 (ipykernel)",
   "language": "python",
   "name": "python3"
  },
  "language_info": {
   "codemirror_mode": {
    "name": "ipython",
    "version": 3
   },
   "file_extension": ".py",
   "mimetype": "text/x-python",
   "name": "python",
   "nbconvert_exporter": "python",
   "pygments_lexer": "ipython3",
   "version": "3.11.0rc1"
  }
 },
 "nbformat": 4,
 "nbformat_minor": 5
}
