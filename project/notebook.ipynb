{
 "cells": [
  {
   "cell_type": "code",
   "execution_count": 32,
   "id": "1808e219-8c88-4fb3-abc9-6077c95e43fd",
   "metadata": {},
   "outputs": [],
   "source": [
    "import pandas as pd\n",
    "import numpy as np\n",
    "import matplotlib.pyplot as plt\n",
    "import seaborn as sns\n",
    "\n",
    "from sklearn.metrics import mutual_info_score\n",
    "from sklearn.model_selection import train_test_split\n",
    "from sklearn.feature_extraction import DictVectorizer\n",
    "from sklearn.preprocessing import LabelEncoder"
   ]
  },
  {
   "cell_type": "markdown",
   "id": "3b232dfb-bf47-4c4f-b0f8-ead0aa812d37",
   "metadata": {},
   "source": [
    "# Part 1: Data understanding and processing (EDA)"
   ]
  },
  {
   "cell_type": "markdown",
   "id": "c61bcb6c-ff4e-4fda-827c-7f00d7e5221d",
   "metadata": {},
   "source": [
    "## 1.1 Get to know the data"
   ]
  },
  {
   "cell_type": "code",
   "execution_count": 298,
   "id": "07542444-04e6-4e3a-ac73-79ed853b2527",
   "metadata": {},
   "outputs": [
    {
     "name": "stdout",
     "output_type": "stream",
     "text": [
      "<class 'pandas.core.frame.DataFrame'>\n",
      "RangeIndex: 128061 entries, 0 to 128060\n",
      "Data columns (total 9 columns):\n",
      " #   Column              Non-Null Count   Dtype  \n",
      "---  ------              --------------   -----  \n",
      " 0   Age                 128061 non-null  float64\n",
      " 1   Gender              128061 non-null  object \n",
      " 2   Education           128061 non-null  int64  \n",
      " 3   Introversion Score  128061 non-null  float64\n",
      " 4   Sensing Score       128061 non-null  float64\n",
      " 5   Thinking Score      128061 non-null  float64\n",
      " 6   Judging Score       128061 non-null  float64\n",
      " 7   Interest            128061 non-null  object \n",
      " 8   Personality         128061 non-null  object \n",
      "dtypes: float64(5), int64(1), object(3)\n",
      "memory usage: 8.8+ MB\n"
     ]
    },
    {
     "data": {
      "text/plain": [
       "(None, (128061, 9))"
      ]
     },
     "execution_count": 298,
     "metadata": {},
     "output_type": "execute_result"
    }
   ],
   "source": [
    "path = './data.csv'\n",
    "df = pd.read_csv(path)\n",
    "df.info(), df.shape"
   ]
  },
  {
   "cell_type": "code",
   "execution_count": 290,
   "id": "b4f9c739-69a3-4555-8432-25114a1d9384",
   "metadata": {},
   "outputs": [
    {
     "data": {
      "text/html": [
       "<div>\n",
       "<style scoped>\n",
       "    .dataframe tbody tr th:only-of-type {\n",
       "        vertical-align: middle;\n",
       "    }\n",
       "\n",
       "    .dataframe tbody tr th {\n",
       "        vertical-align: top;\n",
       "    }\n",
       "\n",
       "    .dataframe thead th {\n",
       "        text-align: right;\n",
       "    }\n",
       "</style>\n",
       "<table border=\"1\" class=\"dataframe\">\n",
       "  <thead>\n",
       "    <tr style=\"text-align: right;\">\n",
       "      <th></th>\n",
       "      <th>Age</th>\n",
       "      <th>Gender</th>\n",
       "      <th>Education</th>\n",
       "      <th>Introversion Score</th>\n",
       "      <th>Sensing Score</th>\n",
       "      <th>Thinking Score</th>\n",
       "      <th>Judging Score</th>\n",
       "      <th>Interest</th>\n",
       "      <th>Personality</th>\n",
       "    </tr>\n",
       "  </thead>\n",
       "  <tbody>\n",
       "    <tr>\n",
       "      <th>0</th>\n",
       "      <td>19.0</td>\n",
       "      <td>Male</td>\n",
       "      <td>0</td>\n",
       "      <td>9.47080</td>\n",
       "      <td>7.141434</td>\n",
       "      <td>6.03696</td>\n",
       "      <td>4.360278</td>\n",
       "      <td>Unknown</td>\n",
       "      <td>ENFP</td>\n",
       "    </tr>\n",
       "    <tr>\n",
       "      <th>1</th>\n",
       "      <td>27.0</td>\n",
       "      <td>Female</td>\n",
       "      <td>0</td>\n",
       "      <td>5.85392</td>\n",
       "      <td>6.160195</td>\n",
       "      <td>0.80552</td>\n",
       "      <td>4.221421</td>\n",
       "      <td>Sports</td>\n",
       "      <td>ESFP</td>\n",
       "    </tr>\n",
       "    <tr>\n",
       "      <th>2</th>\n",
       "      <td>21.0</td>\n",
       "      <td>Female</td>\n",
       "      <td>0</td>\n",
       "      <td>7.08615</td>\n",
       "      <td>3.388433</td>\n",
       "      <td>2.66188</td>\n",
       "      <td>5.127320</td>\n",
       "      <td>Unknown</td>\n",
       "      <td>ENFP</td>\n",
       "    </tr>\n",
       "    <tr>\n",
       "      <th>3</th>\n",
       "      <td>28.0</td>\n",
       "      <td>Male</td>\n",
       "      <td>0</td>\n",
       "      <td>2.01892</td>\n",
       "      <td>4.823624</td>\n",
       "      <td>7.30625</td>\n",
       "      <td>5.986550</td>\n",
       "      <td>Others</td>\n",
       "      <td>INTP</td>\n",
       "    </tr>\n",
       "    <tr>\n",
       "      <th>4</th>\n",
       "      <td>36.0</td>\n",
       "      <td>Female</td>\n",
       "      <td>1</td>\n",
       "      <td>9.91703</td>\n",
       "      <td>4.755080</td>\n",
       "      <td>5.31469</td>\n",
       "      <td>4.677213</td>\n",
       "      <td>Technology</td>\n",
       "      <td>ENFP</td>\n",
       "    </tr>\n",
       "    <tr>\n",
       "      <th>5</th>\n",
       "      <td>25.0</td>\n",
       "      <td>Male</td>\n",
       "      <td>0</td>\n",
       "      <td>7.66292</td>\n",
       "      <td>5.758030</td>\n",
       "      <td>1.97014</td>\n",
       "      <td>4.563907</td>\n",
       "      <td>Others</td>\n",
       "      <td>ENFP</td>\n",
       "    </tr>\n",
       "    <tr>\n",
       "      <th>6</th>\n",
       "      <td>26.0</td>\n",
       "      <td>Female</td>\n",
       "      <td>1</td>\n",
       "      <td>2.73185</td>\n",
       "      <td>5.898910</td>\n",
       "      <td>3.64832</td>\n",
       "      <td>5.800525</td>\n",
       "      <td>Unknown</td>\n",
       "      <td>INFP</td>\n",
       "    </tr>\n",
       "    <tr>\n",
       "      <th>7</th>\n",
       "      <td>27.0</td>\n",
       "      <td>Female</td>\n",
       "      <td>0</td>\n",
       "      <td>5.24958</td>\n",
       "      <td>5.963290</td>\n",
       "      <td>1.16176</td>\n",
       "      <td>5.873350</td>\n",
       "      <td>Sports</td>\n",
       "      <td>ENFJ</td>\n",
       "    </tr>\n",
       "    <tr>\n",
       "      <th>8</th>\n",
       "      <td>29.0</td>\n",
       "      <td>Male</td>\n",
       "      <td>0</td>\n",
       "      <td>8.86018</td>\n",
       "      <td>3.681570</td>\n",
       "      <td>7.78505</td>\n",
       "      <td>1.640560</td>\n",
       "      <td>Others</td>\n",
       "      <td>ENTP</td>\n",
       "    </tr>\n",
       "    <tr>\n",
       "      <th>9</th>\n",
       "      <td>24.0</td>\n",
       "      <td>Female</td>\n",
       "      <td>0</td>\n",
       "      <td>1.62636</td>\n",
       "      <td>5.160906</td>\n",
       "      <td>7.25476</td>\n",
       "      <td>3.825849</td>\n",
       "      <td>Technology</td>\n",
       "      <td>INTP</td>\n",
       "    </tr>\n",
       "  </tbody>\n",
       "</table>\n",
       "</div>"
      ],
      "text/plain": [
       "    Age  Gender  Education  Introversion Score  Sensing Score  Thinking Score  \\\n",
       "0  19.0    Male          0             9.47080       7.141434         6.03696   \n",
       "1  27.0  Female          0             5.85392       6.160195         0.80552   \n",
       "2  21.0  Female          0             7.08615       3.388433         2.66188   \n",
       "3  28.0    Male          0             2.01892       4.823624         7.30625   \n",
       "4  36.0  Female          1             9.91703       4.755080         5.31469   \n",
       "5  25.0    Male          0             7.66292       5.758030         1.97014   \n",
       "6  26.0  Female          1             2.73185       5.898910         3.64832   \n",
       "7  27.0  Female          0             5.24958       5.963290         1.16176   \n",
       "8  29.0    Male          0             8.86018       3.681570         7.78505   \n",
       "9  24.0  Female          0             1.62636       5.160906         7.25476   \n",
       "\n",
       "   Judging Score    Interest Personality  \n",
       "0       4.360278     Unknown        ENFP  \n",
       "1       4.221421      Sports        ESFP  \n",
       "2       5.127320     Unknown        ENFP  \n",
       "3       5.986550      Others        INTP  \n",
       "4       4.677213  Technology        ENFP  \n",
       "5       4.563907      Others        ENFP  \n",
       "6       5.800525     Unknown        INFP  \n",
       "7       5.873350      Sports        ENFJ  \n",
       "8       1.640560      Others        ENTP  \n",
       "9       3.825849  Technology        INTP  "
      ]
     },
     "execution_count": 290,
     "metadata": {},
     "output_type": "execute_result"
    }
   ],
   "source": [
    "df.head(10)"
   ]
  },
  {
   "cell_type": "markdown",
   "id": "43d9ada9-1955-4cd8-b189-dee7f278ee00",
   "metadata": {},
   "source": [
    "This synthetic dataset is designed to explore and predict Myers-Briggs Type Indicator (MBTI) personality types based on a combination of demographic factors, interest areas, and personality scores. It includes 100K+ samples, each representing an individual with various features that contribute to determining their MBTI type. Features included in this dataset are:\n",
    "\n",
    "**Age**: A continuous variable representing the age of the individual.\n",
    "\n",
    "**Gender**: A categorical variable indicating the gender of the individual. Possible values are 'Male' and 'Female'.\n",
    "\n",
    "**Education**: A binary variable, A value of 1 indicates the individual has at least a graduate-level education (or higher), and 0 indicates an undergraduate, high school level or Uneducated.\n",
    "\n",
    "**Interest**: A categorical variable representing the individual's primary area of interest.\n",
    "\n",
    "**Introversion Score**: A continuous variable ranging from 0 to 10, representing the individual's tendency toward introversion versus extraversion. Higher scores indicate a greater tendency toward extraversion.\n",
    "\n",
    "**Sensing Score**: A continuous variable ranging from 0 to 10, representing the individual's preference for sensing versus intuition. Higher scores indicate a preference for sensing.\n",
    "\n",
    "**Thinking Score**: A continuous variable ranging from 0 to 10, indicating the individual's preference for thinking versus feeling. Higher scores indicate a preference for thinking.\n",
    "\n",
    "**Judging Score**: A continuous variable ranging from 0 to 10, representing the individual's preference for judging versus perceiving. Higher scores indicate a preference for judging.\n",
    "\n",
    "**Personality**: Target that contains People Personality Type\n",
    "\n",
    "The main goal for this project is to use different machine learning models to make prediction related to a person personality based on MBTI score. Since, the target variable contains multiple types of characteristics, its make the problem becomes a multiclass-classification."
   ]
  },
  {
   "cell_type": "markdown",
   "id": "f3191b2b-b0bd-4cc8-8e62-a03c2b08a793",
   "metadata": {},
   "source": [
    "## 1.2 Data cleaning and processing"
   ]
  },
  {
   "cell_type": "markdown",
   "id": "c57ecfb4-22b5-4263-acea-625722c63a72",
   "metadata": {},
   "source": [
    "### inconsistent column names"
   ]
  },
  {
   "cell_type": "code",
   "execution_count": 299,
   "id": "8611d901-da19-4698-b426-8763d664bb55",
   "metadata": {},
   "outputs": [
    {
     "name": "stdout",
     "output_type": "stream",
     "text": [
      "['age', 'gender', 'education', 'introversion_score', 'sensing_score', 'thinking_score', 'judging_score', 'interest', 'personality']\n"
     ]
    }
   ],
   "source": [
    "df.columns = df.columns.str.lower().str.replace(\" \", \"_\")\n",
    "print(list(df.columns))"
   ]
  },
  {
   "cell_type": "markdown",
   "id": "fd9f9dc0-300a-407a-8974-2cf32b92b64f",
   "metadata": {},
   "source": [
    "### missing values"
   ]
  },
  {
   "cell_type": "code",
   "execution_count": 264,
   "id": "798c9bdb-5662-4d83-bdee-d4118cfd7829",
   "metadata": {},
   "outputs": [
    {
     "data": {
      "text/plain": [
       "age                   0\n",
       "gender                0\n",
       "education             0\n",
       "introversion_score    0\n",
       "sensing_score         0\n",
       "thinking_score        0\n",
       "judging_score         0\n",
       "interest              0\n",
       "personality           0\n",
       "dtype: int64"
      ]
     },
     "execution_count": 264,
     "metadata": {},
     "output_type": "execute_result"
    }
   ],
   "source": [
    "df.isnull().sum()"
   ]
  },
  {
   "cell_type": "markdown",
   "id": "fa11a618-44f8-417e-9f1a-0cc688b40efd",
   "metadata": {},
   "source": [
    "$\\to$ No null values were found. \"Unknown\" values in 'interest' feature are keept as they are one of a way to handle missing values."
   ]
  },
  {
   "cell_type": "markdown",
   "id": "5d6f229e-d601-421d-ac5b-bdc50f3c628e",
   "metadata": {},
   "source": [
    "### duplicated values"
   ]
  },
  {
   "cell_type": "code",
   "execution_count": 265,
   "id": "b9bcbbb2-94a6-4ed6-bbfa-150bb8f3bde3",
   "metadata": {},
   "outputs": [
    {
     "data": {
      "text/plain": [
       "0.0"
      ]
     },
     "execution_count": 265,
     "metadata": {},
     "output_type": "execute_result"
    }
   ],
   "source": [
    "dups_propotion = df.duplicated().sum()/df.shape[0]\n",
    "dups_propotion"
   ]
  },
  {
   "cell_type": "markdown",
   "id": "20df946f-01fd-4afc-8d3a-940eb5d3e37f",
   "metadata": {},
   "source": [
    "$\\to$ Contains no duplicated values"
   ]
  },
  {
   "cell_type": "markdown",
   "id": "ddff72a2-044a-44aa-98fd-8cc2bf739005",
   "metadata": {},
   "source": [
    "### get categorical and numerical features"
   ]
  },
  {
   "cell_type": "code",
   "execution_count": 266,
   "id": "35a10c5c-5747-402e-ae5f-c3b17ea9db98",
   "metadata": {},
   "outputs": [
    {
     "data": {
      "text/plain": [
       "(['gender', 'interest', 'personality', 'education'],\n",
       " ['age',\n",
       "  'introversion_score',\n",
       "  'sensing_score',\n",
       "  'thinking_score',\n",
       "  'judging_score'])"
      ]
     },
     "execution_count": 266,
     "metadata": {},
     "output_type": "execute_result"
    }
   ],
   "source": [
    "cat_f = list(df.select_dtypes(include='object'))\n",
    "cat_f.append('education')\n",
    "num_f = list(df.drop(columns=cat_f).columns)\n",
    "\n",
    "cat_f, num_f"
   ]
  },
  {
   "cell_type": "code",
   "execution_count": 267,
   "id": "111bfdc4-9af9-4c91-8be3-be7e3aab762e",
   "metadata": {},
   "outputs": [],
   "source": [
    "# remove target variable\n",
    "cat_f.remove('personality')"
   ]
  },
  {
   "cell_type": "markdown",
   "id": "9c04b260-d88e-4a82-854e-3c0290dbedc6",
   "metadata": {},
   "source": [
    "- Target variable: 'personality'\n",
    "- Categorical features: 'gender', 'interest', 'education'\n",
    "- Numerical features: 'age', 'introversion_score', 'sensing_score', 'thinking_score', 'judging_score'"
   ]
  },
  {
   "cell_type": "markdown",
   "id": "f802e533-63bb-450a-999a-e06d35309a48",
   "metadata": {},
   "source": [
    "### target label encoding"
   ]
  },
  {
   "cell_type": "code",
   "execution_count": 300,
   "id": "9ec738ce-93c9-4755-86ba-4af050c3800a",
   "metadata": {},
   "outputs": [
    {
     "data": {
      "text/plain": [
       "personality\n",
       "1     34404\n",
       "3     24718\n",
       "9     24711\n",
       "11    17132\n",
       "5      4832\n",
       "0      3883\n",
       "13     3456\n",
       "7      3334\n",
       "8      2919\n",
       "2      2783\n",
       "15     2390\n",
       "10     1920\n",
       "4       554\n",
       "6       392\n",
       "12      371\n",
       "14      262\n",
       "Name: count, dtype: int64"
      ]
     },
     "execution_count": 300,
     "metadata": {},
     "output_type": "execute_result"
    }
   ],
   "source": [
    "le = LabelEncoder()\n",
    "df.personality = le.fit_transform(df.personality)\n",
    "df.personality.value_counts()"
   ]
  },
  {
   "cell_type": "code",
   "execution_count": 301,
   "id": "00aecf95-d72d-49c9-bd32-5aaaa55c0dd6",
   "metadata": {},
   "outputs": [
    {
     "data": {
      "text/plain": [
       "{0: 'ENFJ',\n",
       " 1: 'ENFP',\n",
       " 2: 'ENTJ',\n",
       " 3: 'ENTP',\n",
       " 4: 'ESFJ',\n",
       " 5: 'ESFP',\n",
       " 6: 'ESTJ',\n",
       " 7: 'ESTP',\n",
       " 8: 'INFJ',\n",
       " 9: 'INFP',\n",
       " 10: 'INTJ',\n",
       " 11: 'INTP',\n",
       " 12: 'ISFJ',\n",
       " 13: 'ISFP',\n",
       " 14: 'ISTJ',\n",
       " 15: 'ISTP'}"
      ]
     },
     "execution_count": 301,
     "metadata": {},
     "output_type": "execute_result"
    }
   ],
   "source": [
    "# create a dictionary to store mapped values for further investigation\n",
    "personality_label1 = dict(map(lambda i, j: (i, j), \n",
    "                             range(len(le.classes_)), le.classes_))\n",
    "\n",
    "personality_label"
   ]
  },
  {
   "cell_type": "markdown",
   "id": "87c540a8-6b3a-48bb-863e-723281965835",
   "metadata": {},
   "source": [
    "### feature importance and engineering"
   ]
  },
  {
   "cell_type": "code",
   "execution_count": 166,
   "id": "bb0c08b5-9deb-4c51-a536-27da762bf0db",
   "metadata": {},
   "outputs": [
    {
     "name": "stdout",
     "output_type": "stream",
     "text": [
      "gender\n",
      "Male      70432\n",
      "Female    57629\n",
      "Name: count, dtype: int64 \n",
      "\n",
      "Mutual info between retention and gender: 0.009695886596935873 \n",
      "\n",
      "interest\n",
      "Unknown       48835\n",
      "Arts          25489\n",
      "Others        21733\n",
      "Technology    19103\n",
      "Sports        12901\n",
      "Name: count, dtype: int64 \n",
      "\n",
      "Mutual info between retention and interest: 0.011921222195182116 \n",
      "\n",
      "education\n",
      "0    75408\n",
      "1    52653\n",
      "Name: count, dtype: int64 \n",
      "\n",
      "Mutual info between retention and education: 0.057346709323561486 \n",
      "\n"
     ]
    }
   ],
   "source": [
    "for col in cat_t:\n",
    "    print(df[col].value_counts(), \"\\n\")\n",
    "    print(f\"Mutual info between retention and {col}: {mutual_info_score(df.personality, df[col])}\", \"\\n\")"
   ]
  },
  {
   "cell_type": "markdown",
   "id": "9f2f110b-284c-43e8-be47-fa589bfe46d7",
   "metadata": {},
   "source": [
    "$\\to$ The mutual information of each categorical feature tell us that gender is likely to not produce any useful information in predicting personality. Hence, we will exclude it from the models."
   ]
  },
  {
   "cell_type": "code",
   "execution_count": 167,
   "id": "f2782a57-14bf-4f24-b0b3-5c6478c2110b",
   "metadata": {},
   "outputs": [
    {
     "data": {
      "text/plain": [
       "age                   0.057918\n",
       "introversion_score   -0.757621\n",
       "sensing_score         0.157343\n",
       "thinking_score        0.191506\n",
       "judging_score        -0.030594\n",
       "dtype: float64"
      ]
     },
     "execution_count": 167,
     "metadata": {},
     "output_type": "execute_result"
    }
   ],
   "source": [
    "df[num_t].corrwith(df.personality)"
   ]
  },
  {
   "cell_type": "markdown",
   "id": "595b56f4-d5ab-427e-b642-39e4313b8dcb",
   "metadata": {},
   "source": [
    "$\\to$ Based on the correlation between different numerical features, we can see that **introversion_score**, **sensing_score,** and **thinking_score** are considered to have impact on inferencing a person trait. Especially, introversion_score are observed to be the most effected one."
   ]
  },
  {
   "cell_type": "markdown",
   "id": "cd830a88-690d-4fd0-b971-f1a8be28a737",
   "metadata": {},
   "source": [
    "As a result, the following features will be used for model training:"
   ]
  },
  {
   "cell_type": "code",
   "execution_count": 314,
   "id": "9b6e0bfc-2286-4a89-a4da-7b46aa1bc8ef",
   "metadata": {},
   "outputs": [
    {
     "data": {
      "text/plain": [
       "(['interest', 'education'],\n",
       " ['introversion_score', 'sensing_score', 'thinking_score'])"
      ]
     },
     "execution_count": 314,
     "metadata": {},
     "output_type": "execute_result"
    }
   ],
   "source": [
    "cat_f = [x for x in cat_f if x != 'gender']\n",
    "num_f = [x for x in num_f if x not in ['age', 'judging_score']]\n",
    "\n",
    "cat_f, num_f"
   ]
  },
  {
   "cell_type": "markdown",
   "id": "3157ddb7-c2ca-4e26-9c8c-ea15e0ad830b",
   "metadata": {},
   "source": [
    "### outliers"
   ]
  },
  {
   "cell_type": "code",
   "execution_count": 315,
   "id": "8a58c725-2d30-4926-8990-261de4ee73f7",
   "metadata": {},
   "outputs": [
    {
     "data": {
      "image/png": "[encoded data removed]",
      "text/plain": [
       "<Figure size 1000x1500 with 3 Axes>"
      ]
     },
     "metadata": {},
     "output_type": "display_data"
    }
   ],
   "source": [
    "plt.figure(figsize=(10, 15))\n",
    "for i, col in enumerate(num_f):\n",
    "    plt.subplot(5, 2, i + 1)\n",
    "    sns.boxplot(df, x=col)\n",
    "plt.tight_layout()\n",
    "plt.show()"
   ]
  },
  {
   "cell_type": "markdown",
   "id": "f7aa3763-04a6-4d5c-b7a9-cf4ff610148d",
   "metadata": {},
   "source": [
    "$\\to$ From the boxplots, we can observe that **sensing_score** varible contains multiple outilers that need to be addressed. But before we can decide wheter or not to remove outliers, it is important to first investigate the reason behind the existence of these values. And since some models are more sensitive to outliers than other, it also depends on the type of models we choose. Therefore, we will try to deal with outliers only when needed"
   ]
  },
  {
   "cell_type": "markdown",
   "id": "efa46e09-3076-4c68-8ed9-387e208d5d61",
   "metadata": {},
   "source": [
    "### validation framework\n",
    "60% training, 20% validation, 20% testing"
   ]
  },
  {
   "cell_type": "code",
   "execution_count": 316,
   "id": "2e8c6349-5972-4f1b-ae86-179841560050",
   "metadata": {},
   "outputs": [],
   "source": [
    "# update dataframe to use only selected features\n",
    "features = cat_f + num_f\n",
    "\n",
    "# also include target variable\n",
    "features.append('personality')"
   ]
  },
  {
   "cell_type": "code",
   "execution_count": 317,
   "id": "2d6f32b0-1e74-4207-aec8-e8778aebcb45",
   "metadata": {},
   "outputs": [
    {
     "data": {
      "text/plain": [
       "(76836, 25612, 25613)"
      ]
     },
     "execution_count": 317,
     "metadata": {},
     "output_type": "execute_result"
    }
   ],
   "source": [
    "df_full_train, df_test = train_test_split(df[features], test_size=0.2, random_state=1)\n",
    "df_train, df_val = train_test_split(df_full_train, test_size=0.25, random_state=1)\n",
    "len(df_train), len(df_val), len(df_test)"
   ]
  },
  {
   "cell_type": "code",
   "execution_count": 318,
   "id": "59b5bc4a-8fe2-46a7-aa4f-5165fce9a597",
   "metadata": {},
   "outputs": [
    {
     "data": {
      "text/html": [
       "<div>\n",
       "<style scoped>\n",
       "    .dataframe tbody tr th:only-of-type {\n",
       "        vertical-align: middle;\n",
       "    }\n",
       "\n",
       "    .dataframe tbody tr th {\n",
       "        vertical-align: top;\n",
       "    }\n",
       "\n",
       "    .dataframe thead th {\n",
       "        text-align: right;\n",
       "    }\n",
       "</style>\n",
       "<table border=\"1\" class=\"dataframe\">\n",
       "  <thead>\n",
       "    <tr style=\"text-align: right;\">\n",
       "      <th></th>\n",
       "      <th>interest</th>\n",
       "      <th>education</th>\n",
       "      <th>introversion_score</th>\n",
       "      <th>sensing_score</th>\n",
       "      <th>thinking_score</th>\n",
       "      <th>personality</th>\n",
       "    </tr>\n",
       "  </thead>\n",
       "  <tbody>\n",
       "    <tr>\n",
       "      <th>37137</th>\n",
       "      <td>Unknown</td>\n",
       "      <td>0</td>\n",
       "      <td>0.77647</td>\n",
       "      <td>3.017397</td>\n",
       "      <td>3.57761</td>\n",
       "      <td>9</td>\n",
       "    </tr>\n",
       "    <tr>\n",
       "      <th>120517</th>\n",
       "      <td>Arts</td>\n",
       "      <td>0</td>\n",
       "      <td>9.73595</td>\n",
       "      <td>5.723747</td>\n",
       "      <td>0.94097</td>\n",
       "      <td>1</td>\n",
       "    </tr>\n",
       "    <tr>\n",
       "      <th>84967</th>\n",
       "      <td>Arts</td>\n",
       "      <td>0</td>\n",
       "      <td>4.28752</td>\n",
       "      <td>5.448390</td>\n",
       "      <td>5.80655</td>\n",
       "      <td>11</td>\n",
       "    </tr>\n",
       "    <tr>\n",
       "      <th>86045</th>\n",
       "      <td>Unknown</td>\n",
       "      <td>1</td>\n",
       "      <td>5.53467</td>\n",
       "      <td>5.625216</td>\n",
       "      <td>7.17642</td>\n",
       "      <td>3</td>\n",
       "    </tr>\n",
       "    <tr>\n",
       "      <th>109195</th>\n",
       "      <td>Arts</td>\n",
       "      <td>0</td>\n",
       "      <td>4.56679</td>\n",
       "      <td>5.503496</td>\n",
       "      <td>8.73073</td>\n",
       "      <td>3</td>\n",
       "    </tr>\n",
       "  </tbody>\n",
       "</table>\n",
       "</div>"
      ],
      "text/plain": [
       "       interest  education  introversion_score  sensing_score  thinking_score  \\\n",
       "37137   Unknown          0             0.77647       3.017397         3.57761   \n",
       "120517     Arts          0             9.73595       5.723747         0.94097   \n",
       "84967      Arts          0             4.28752       5.448390         5.80655   \n",
       "86045   Unknown          1             5.53467       5.625216         7.17642   \n",
       "109195     Arts          0             4.56679       5.503496         8.73073   \n",
       "\n",
       "        personality  \n",
       "37137             9  \n",
       "120517            1  \n",
       "84967            11  \n",
       "86045             3  \n",
       "109195            3  "
      ]
     },
     "execution_count": 318,
     "metadata": {},
     "output_type": "execute_result"
    }
   ],
   "source": [
    "df_full_train.head()"
   ]
  },
  {
   "cell_type": "code",
   "execution_count": 319,
   "id": "49b99bdc-6a1e-459a-85a8-8906e50ea8ba",
   "metadata": {},
   "outputs": [],
   "source": [
    "# reset index\n",
    "df_train = df_train.reset_index(drop=True)\n",
    "df_val = df_val.reset_index(drop=True)\n",
    "df_test = df_test.reset_index(drop=True)\n",
    "\n",
    "# obtain target values\n",
    "y_train = df_train.personality.values\n",
    "y_val = df_val.personality.values\n",
    "y_test = df_test.personality.values"
   ]
  },
  {
   "cell_type": "code",
   "execution_count": 320,
   "id": "674910f0-24ff-4749-9489-ba3eaa93da9c",
   "metadata": {},
   "outputs": [],
   "source": [
    "# remove target to prevent using it\n",
    "for i in [df_train, df_val, df_test]:\n",
    "    del i[\"personality\"]"
   ]
  },
  {
   "cell_type": "markdown",
   "id": "6840c04a-f9dd-469c-9f70-d35f1c2a8cd8",
   "metadata": {},
   "source": [
    "### one-hot encoding for features"
   ]
  },
  {
   "cell_type": "code",
   "execution_count": 321,
   "id": "cce284b2-97ce-4322-86c2-b728492584c7",
   "metadata": {},
   "outputs": [],
   "source": [
    "dv = DictVectorizer(sparse=False)\n",
    "\n",
    "train_dict = df_train[df_train.columns].to_dict(orient='records')\n",
    "X_train = dv.fit_transform(train_dict)\n",
    "\n",
    "val_dict = df_val[df_val.columns].to_dict(orient='records')\n",
    "X_val = dv.transform(val_dict)\n",
    "\n",
    "test_dict = df_test[df_test.columns].to_dict(orient='records')\n",
    "X_test = dv.transform(test_dict)"
   ]
  },
  {
   "cell_type": "markdown",
   "id": "4edce4df-9ab5-41eb-8930-61dbfcbeab9e",
   "metadata": {},
   "source": [
    "# Part 2: Model training\n",
    "List of models used in this project:\n",
    "- Logistic Regression (with Gradient Descent or Regularize - optional)\n",
    "- Decision Tree\n",
    "- Random Forest\n",
    "- Gradient Boosting Machines (XGBoot, ...)\n",
    "- Naive Bayes (optional)\n",
    "- KNN\n",
    "\n",
    "This section is divided into 5 parts:\n",
    "- Models training\n",
    "- Models evaluation part I\n",
    "- Hyperparameter tunning\n",
    "- Models evaluation part II\n",
    "- Models selection"
   ]
  },
  {
   "cell_type": "code",
   "execution_count": null,
   "id": "3a0a0958-05b4-49b7-b753-5ac54b4c6a77",
   "metadata": {},
   "outputs": [],
   "source": []
  },
  {
   "cell_type": "markdown",
   "id": "b4a6aaa3-52e3-4abf-b0c7-f24a637b99a3",
   "metadata": {},
   "source": [
    "# Part 3: Deployment\n",
    "This include:\n",
    "- Save models to binary files\n",
    "- Export notebook to python script"
   ]
  },
  {
   "cell_type": "code",
   "execution_count": null,
   "id": "3e33ded0-8f70-48fa-92bc-c9d95b947606",
   "metadata": {},
   "outputs": [],
   "source": []
  }
 ],
 "metadata": {
  "kernelspec": {
   "display_name": "Python 3 (ipykernel)",
   "language": "python",
   "name": "python3"
  },
  "language_info": {
   "codemirror_mode": {
    "name": "ipython",
    "version": 3
   },
   "file_extension": ".py",
   "mimetype": "text/x-python",
   "name": "python",
   "nbconvert_exporter": "python",
   "pygments_lexer": "ipython3",
   "version": "3.10.12"
  }
 },
 "nbformat": 4,
 "nbformat_minor": 5
}
