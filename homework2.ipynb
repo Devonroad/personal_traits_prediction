{
 "cells": [
  {
   "cell_type": "markdown",
   "id": "9faa3c0b-12cc-4440-865a-8b0f3b39d957",
   "metadata": {},
   "source": [
    "# Homework 2"
   ]
  },
  {
   "cell_type": "code",
   "execution_count": 1,
   "id": "a2392942-ea94-41ab-89b2-b853b5bd9e87",
   "metadata": {},
   "outputs": [],
   "source": [
    "# import\n",
    "import numpy as np\n",
    "import pandas as pd\n",
    "\n",
    "import seaborn as sns\n",
    "from matplotlib import pyplot as plt\n",
    "%matplotlib inline"
   ]
  },
  {
   "cell_type": "code",
   "execution_count": 2,
   "id": "51f1cd15-191e-48f0-9529-b61b6cd0ef92",
   "metadata": {},
   "outputs": [
    {
     "data": {
      "text/plain": [
       "2160"
      ]
     },
     "execution_count": 2,
     "metadata": {},
     "output_type": "execute_result"
    }
   ],
   "source": [
    "# getting data\n",
    "url = 'https://raw.githubusercontent.com/alexeygrigorev/datasets/master/laptops.csv'\n",
    "df = pd.read_csv(url)\n",
    "len(df)"
   ]
  },
  {
   "cell_type": "code",
   "execution_count": 3,
   "id": "f0afd2ec-4b5e-422c-a033-3662b1d3bd69",
   "metadata": {},
   "outputs": [
    {
     "data": {
      "text/html": [
       "<div>\n",
       "<style scoped>\n",
       "    .dataframe tbody tr th:only-of-type {\n",
       "        vertical-align: middle;\n",
       "    }\n",
       "\n",
       "    .dataframe tbody tr th {\n",
       "        vertical-align: top;\n",
       "    }\n",
       "\n",
       "    .dataframe thead th {\n",
       "        text-align: right;\n",
       "    }\n",
       "</style>\n",
       "<table border=\"1\" class=\"dataframe\">\n",
       "  <thead>\n",
       "    <tr style=\"text-align: right;\">\n",
       "      <th></th>\n",
       "      <th>ram</th>\n",
       "      <th>storage</th>\n",
       "      <th>screen</th>\n",
       "      <th>final_price</th>\n",
       "    </tr>\n",
       "  </thead>\n",
       "  <tbody>\n",
       "    <tr>\n",
       "      <th>0</th>\n",
       "      <td>8</td>\n",
       "      <td>512</td>\n",
       "      <td>15.6</td>\n",
       "      <td>1009.00</td>\n",
       "    </tr>\n",
       "    <tr>\n",
       "      <th>1</th>\n",
       "      <td>8</td>\n",
       "      <td>256</td>\n",
       "      <td>15.6</td>\n",
       "      <td>299.00</td>\n",
       "    </tr>\n",
       "    <tr>\n",
       "      <th>2</th>\n",
       "      <td>8</td>\n",
       "      <td>256</td>\n",
       "      <td>15.6</td>\n",
       "      <td>789.00</td>\n",
       "    </tr>\n",
       "    <tr>\n",
       "      <th>3</th>\n",
       "      <td>16</td>\n",
       "      <td>1000</td>\n",
       "      <td>15.6</td>\n",
       "      <td>1199.00</td>\n",
       "    </tr>\n",
       "    <tr>\n",
       "      <th>4</th>\n",
       "      <td>16</td>\n",
       "      <td>512</td>\n",
       "      <td>15.6</td>\n",
       "      <td>669.01</td>\n",
       "    </tr>\n",
       "    <tr>\n",
       "      <th>5</th>\n",
       "      <td>32</td>\n",
       "      <td>1000</td>\n",
       "      <td>17.3</td>\n",
       "      <td>1699.00</td>\n",
       "    </tr>\n",
       "    <tr>\n",
       "      <th>6</th>\n",
       "      <td>8</td>\n",
       "      <td>256</td>\n",
       "      <td>14.0</td>\n",
       "      <td>909.00</td>\n",
       "    </tr>\n",
       "    <tr>\n",
       "      <th>7</th>\n",
       "      <td>8</td>\n",
       "      <td>512</td>\n",
       "      <td>15.6</td>\n",
       "      <td>809.01</td>\n",
       "    </tr>\n",
       "    <tr>\n",
       "      <th>8</th>\n",
       "      <td>8</td>\n",
       "      <td>256</td>\n",
       "      <td>15.6</td>\n",
       "      <td>519.00</td>\n",
       "    </tr>\n",
       "    <tr>\n",
       "      <th>9</th>\n",
       "      <td>16</td>\n",
       "      <td>512</td>\n",
       "      <td>16.1</td>\n",
       "      <td>1149.00</td>\n",
       "    </tr>\n",
       "  </tbody>\n",
       "</table>\n",
       "</div>"
      ],
      "text/plain": [
       "   ram  storage  screen  final_price\n",
       "0    8      512    15.6      1009.00\n",
       "1    8      256    15.6       299.00\n",
       "2    8      256    15.6       789.00\n",
       "3   16     1000    15.6      1199.00\n",
       "4   16      512    15.6       669.01\n",
       "5   32     1000    17.3      1699.00\n",
       "6    8      256    14.0       909.00\n",
       "7    8      512    15.6       809.01\n",
       "8    8      256    15.6       519.00\n",
       "9   16      512    16.1      1149.00"
      ]
     },
     "execution_count": 3,
     "metadata": {},
     "output_type": "execute_result"
    }
   ],
   "source": [
    "# normalize the name\n",
    "df.columns = df.columns.str.lower().str.replace(' ', '_')\n",
    "\n",
    "# get only neccessary cols\n",
    "df = df[['ram', 'storage', 'screen', 'final_price']]\n",
    "df.head(10)"
   ]
  },
  {
   "cell_type": "code",
   "execution_count": 4,
   "id": "f419bdc1-32b9-4472-92e1-34724ff4513b",
   "metadata": {},
   "outputs": [
    {
     "data": {
      "text/plain": [
       "ram            0\n",
       "storage        0\n",
       "screen         4\n",
       "final_price    0\n",
       "dtype: int64"
      ]
     },
     "execution_count": 4,
     "metadata": {},
     "output_type": "execute_result"
    }
   ],
   "source": [
    "# Q1: check for null value\n",
    "df.isnull().sum()"
   ]
  },
  {
   "cell_type": "code",
   "execution_count": 5,
   "id": "0295b823-1237-4b99-94cc-7fa321f66551",
   "metadata": {},
   "outputs": [
    {
     "data": {
      "text/plain": [
       "16.0"
      ]
     },
     "execution_count": 5,
     "metadata": {},
     "output_type": "execute_result"
    }
   ],
   "source": [
    "# Q2: 'ram' median\n",
    "float(df.ram.median())"
   ]
  },
  {
   "cell_type": "code",
   "execution_count": 6,
   "id": "921e6125-3519-4238-a7f6-faee6d23f80b",
   "metadata": {},
   "outputs": [],
   "source": [
    "# prepare and split the dataset\n",
    "np.random.seed(42)\n",
    "\n",
    "n = len(df)\n",
    "n_val = n_test = int(0.2 * n)\n",
    "n_train = n - n_val - n_test\n",
    "\n",
    "idx = np.arange(n)\n",
    "np.random.shuffle(idx)\n",
    "\n",
    "df_random = df.iloc[idx]\n",
    "\n",
    "df_train = df_random.iloc[:n_train].copy()\n",
    "df_val = df_random.iloc[n_train:n_train+n_val].copy()\n",
    "df_test = df_random.iloc[n_train+n_val:].copy()\n",
    "\n",
    "# the final_price variables actually has long tail so ill need to deal with it\n",
    "\n",
    "y_train = np.log1p(df_train.final_price.values)\n",
    "y_val = np.log1p(df_val.final_price.values)\n",
    "y_test = np.log1p(df_test.final_price.values)\n",
    "\n",
    "y_train = df_train.final_price.values\n",
    "y_val = df_val.final_price.values\n",
    "y_test = df_test.final_price.values\n",
    "\n",
    "for i in (df_train, df_val, df_test):\n",
    "    del i['final_price']"
   ]
  },
  {
   "cell_type": "markdown",
   "id": "656c7dae-b9bd-4cb9-b50c-675175d5edc0",
   "metadata": {},
   "source": [
    "## Q3: train linear regression models with two different filling na options"
   ]
  },
  {
   "cell_type": "markdown",
   "id": "fe76f582-1183-4feb-9cc2-09a5494b374c",
   "metadata": {},
   "source": [
    "### Prerequisite"
   ]
  },
  {
   "cell_type": "code",
   "execution_count": 7,
   "id": "2f5022c2-ba2a-4327-b681-ae2f2371703a",
   "metadata": {},
   "outputs": [
    {
     "name": "stdout",
     "output_type": "stream",
     "text": [
      "['ram' 'storage' 'screen']\n"
     ]
    }
   ],
   "source": [
    "# define linear regression model\n",
    "def train_linear_regression(X, y):\n",
    "    ones = np.ones(X.shape[0])\n",
    "    X = np.column_stack([ones, X])\n",
    "    \n",
    "    XTX = X.T.dot(X)\n",
    "    XTX_inv = np.linalg.inv(XTX)\n",
    "    w = XTX_inv.dot(X.T).dot(y)\n",
    "\n",
    "    return w[0], w[1:]\n",
    "\n",
    "# other required functions wrapper\n",
    "def prepare_X(df, base, fill_val):\n",
    "    df_feature = df[base]\n",
    "    df_feature = df_feature.fillna(fill_val) # only one feature has NAs -> still valid\n",
    "    X = df_feature.values\n",
    "    return X\n",
    "    \n",
    "def rmse(y, y_pred):\n",
    "    error = y_pred - y\n",
    "    mse = (error ** 2).mean()\n",
    "    return np.sqrt(mse)\n",
    "\n",
    "def get_pred(w_0, X, w):\n",
    "    return w_0 + X.dot(w)\n",
    "    \n",
    "# get base\n",
    "base = df_train.columns.values\n",
    "print(base)"
   ]
  },
  {
   "cell_type": "markdown",
   "id": "9e334efb-cb9c-479c-81e6-9f49c5fe6db1",
   "metadata": {},
   "source": [
    "### Fill with 0"
   ]
  },
  {
   "cell_type": "code",
   "execution_count": 8,
   "id": "7dccfecd-50d4-4e6b-9e5d-57e977ef7927",
   "metadata": {},
   "outputs": [
    {
     "name": "stdout",
     "output_type": "stream",
     "text": [
      "597.36\n"
     ]
    }
   ],
   "source": [
    "# train model\n",
    "X_train_0 = prepare_X(df_train, base, 0)\n",
    "w_0, w = train_linear_regression(X_train_0, y_train)\n",
    "\n",
    "# validate model\n",
    "X_val_0 = prepare_X(df_val, base, 0)\n",
    "y_pred = get_pred(w_0, X_val_0, w)\n",
    "print(round(rmse(y_val, y_pred), 2))"
   ]
  },
  {
   "cell_type": "markdown",
   "id": "ba7b4986-2eb2-40e1-8ea0-fd8a4a02d58c",
   "metadata": {},
   "source": [
    "### Fill with mean"
   ]
  },
  {
   "cell_type": "code",
   "execution_count": 9,
   "id": "30e5a4af-1e8d-401d-8a58-d055cfc84946",
   "metadata": {},
   "outputs": [
    {
     "name": "stdout",
     "output_type": "stream",
     "text": [
      "600.26\n"
     ]
    }
   ],
   "source": [
    "# train model\n",
    "X_train_mean = prepare_X(df_train, base, df_train.screen.mean())\n",
    "w_0, w = train_linear_regression(X_train_mean, y_train)\n",
    "\n",
    "# validate model\n",
    "X_val_mean = prepare_X(df_val, base, df_val.screen.mean())\n",
    "y_pred = get_pred(w_0, X_val_mean, w)\n",
    "print(round(rmse(y_val, y_pred), 2))"
   ]
  },
  {
   "cell_type": "markdown",
   "id": "21d6b4c7-3076-4657-9bdb-7c1fc795b3f8",
   "metadata": {},
   "source": [
    "## Q4: train a regularized linear regression"
   ]
  },
  {
   "cell_type": "code",
   "execution_count": 10,
   "id": "5defd9af-a524-46ce-9aa2-39ef42ce7095",
   "metadata": {},
   "outputs": [
    {
     "name": "stdout",
     "output_type": "stream",
     "text": [
      "     0 597.36\n",
      "  0.01 597.36\n",
      "   0.1 597.35\n",
      "     1 597.21\n",
      "     5 597.01\n",
      "    10 597.06\n",
      "   100 597.90\n"
     ]
    }
   ],
   "source": [
    "# define linear regression model with regularization\n",
    "def train_linear_regression_reg(X, y, r=0.0):\n",
    "    ones = np.ones(X.shape[0])\n",
    "    X = np.column_stack([ones, X])\n",
    "    \n",
    "    XTX = X.T.dot(X)\n",
    "    reg = r * np.eye(XTX.shape[0])\n",
    "    XTX = XTX + reg\n",
    "\n",
    "    XTX_inv = np.linalg.inv(XTX)\n",
    "    w = XTX_inv.dot(X.T).dot(y)\n",
    "    return w[0], w[1:]\n",
    "\n",
    "X_train = prepare_X(df_train, base, 0)\n",
    "X_val = prepare_X(df_val, base, 0)\n",
    "\n",
    "for r in [0, 0.01, 0.1, 1, 5, 10, 100]:\n",
    "    w_0, w = train_linear_regression_reg(X_train, y_train, r=r)\n",
    "    y_pred = w_0 + X_val.dot(w)\n",
    "    print('%6s %.2f' %(r, rmse(y_val, y_pred)))"
   ]
  },
  {
   "cell_type": "markdown",
   "id": "fc5681c4-5e77-43d5-9241-51c75ce667be",
   "metadata": {},
   "source": [
    "## Q5: the standard deviation of all the RMSE"
   ]
  },
  {
   "cell_type": "code",
   "execution_count": 27,
   "id": "48e09ecd-4c18-40f3-8747-842837e41b7d",
   "metadata": {},
   "outputs": [
    {
     "name": "stdout",
     "output_type": "stream",
     "text": [
      "29.176\n"
     ]
    }
   ],
   "source": [
    "std_rmse = []\n",
    "for seed in [0, 1, 2, 3, 4, 5, 6, 7, 8, 9]:\n",
    "    np.random.seed(seed)\n",
    "    idx = np.arange(n) # put idx here to reset it to default idx every itteration\n",
    "    np.random.shuffle(idx)\n",
    "\n",
    "    # prepare dataset\n",
    "    df_random = df.iloc[idx]\n",
    "\n",
    "    df_train = df_random.iloc[:n_train].copy()\n",
    "    df_val = df_random.iloc[n_train:n_train+n_val].copy()\n",
    "    df_test = df_random.iloc[n_train+n_val:].copy()\n",
    "\n",
    "    # obtain y target\n",
    "    y_train = df_train.final_price.values\n",
    "    y_val = df_val.final_price.values\n",
    "    y_test = df_test.final_price.values\n",
    "\n",
    "    for i in (df_train, df_val, df_test):\n",
    "        del i['final_price']\n",
    "\n",
    "    # train model\n",
    "    X_train = prepare_X(df_train, base, 0)\n",
    "    w_0, w = train_linear_regression(X_train, y_train)\n",
    "    \n",
    "    # validate model\n",
    "    X_val = prepare_X(df_val, base, 0)\n",
    "    y_pred = get_pred(w_0, X_val, w)\n",
    "    std_rmse.append(rmse(y_val, y_pred))\n",
    "\n",
    "print(round(np.std(std_rmse), 3))"
   ]
  },
  {
   "cell_type": "code",
   "execution_count": 37,
   "id": "40848be0-7c34-4d90-bc1d-80eed9927603",
   "metadata": {},
   "outputs": [
    {
     "name": "stdout",
     "output_type": "stream",
     "text": [
      "608.61\n"
     ]
    }
   ],
   "source": [
    "np.random.seed(9)\n",
    "\n",
    "idx = np.arange(n)\n",
    "np.random.shuffle(idx)\n",
    "\n",
    "# prepare dataset\n",
    "df_random = df.iloc[idx]\n",
    "\n",
    "df_train = df_random.iloc[:n_train].copy()\n",
    "df_val = df_random.iloc[n_train:n_train+n_val].copy()\n",
    "df_test = df_random.iloc[n_train+n_val:].copy()\n",
    "\n",
    "# obtain y target\n",
    "y_train = df_train.final_price.values\n",
    "y_val = df_val.final_price.values\n",
    "y_test = df_test.final_price.values\n",
    "\n",
    "for i in (df_train, df_val, df_test):\n",
    "    del i['final_price']\n",
    "\n",
    "# train model\n",
    "df_combine = pd.concat([df_train, df_val])\n",
    "y_combine = np.append(y_train, y_val)\n",
    "X = prepare_X(df_combine, base, 0)\n",
    "w_0, w = train_linear_regression_reg(X, y_combine, r=0.001)\n",
    "\n",
    "# validate model\n",
    "X_test = prepare_X(df_test, base, 0)\n",
    "y_pred = get_pred(w_0, X_test, w)\n",
    "print(round(rmse(y_test, y_pred), 2))"
   ]
  }
 ],
 "metadata": {
  "kernelspec": {
   "display_name": "Python 3 (ipykernel)",
   "language": "python",
   "name": "python3"
  },
  "language_info": {
   "codemirror_mode": {
    "name": "ipython",
    "version": 3
   },
   "file_extension": ".py",
   "mimetype": "text/x-python",
   "name": "python",
   "nbconvert_exporter": "python",
   "pygments_lexer": "ipython3",
   "version": "3.11.0rc1"
  }
 },
 "nbformat": 4,
 "nbformat_minor": 5
}
